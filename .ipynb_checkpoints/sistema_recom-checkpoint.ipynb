{
 "cells": [
  {
   "cell_type": "code",
   "execution_count": 1,
   "metadata": {},
   "outputs": [],
   "source": [
    "import numpy as np\n",
    "import matplotlib.pyplot as plt\n",
    "import seaborn as sns\n",
    "from nltk.tokenize import sent_tokenize, word_tokenize\n",
    "from textblob import TextBlob\n"
   ]
  },
  {
   "cell_type": "markdown",
   "metadata": {},
   "source": [
    "### IMPORTACION DE DATASET"
   ]
  },
  {
   "cell_type": "code",
   "execution_count": 2,
   "metadata": {},
   "outputs": [],
   "source": [
    "import gzip\n",
    "import pandas as pd\n",
    "\n",
    "def parse(path):\n",
    "    g = gzip.open(path, 'r')\n",
    "    for l in g:\n",
    "        yield eval(l)"
   ]
  },
  {
   "cell_type": "code",
   "execution_count": 3,
   "metadata": {},
   "outputs": [],
   "source": [
    "#contador = 0\n",
    "#data_reviews = []\n",
    "# Vamos a guardar una de cada 10 reviews para no llenar la memoria RAM. Si pones n = 3, \n",
    "# abrira uno de cada tres, y asi.\n",
    "#n = 3\n",
    "#for l in parse('C:\\\\Users\\\\Usuario\\\\source\\\\repos\\\\steam_reviews.json.gz'):\n",
    "    #if contador%n == 0:\n",
    "        #data_reviews.append(l)\n",
    "#    else:\n",
    "#          pass\n",
    "#   contador += 1\n",
    "    \n",
    " \n"
   ]
  },
  {
   "cell_type": "code",
   "execution_count": 4,
   "metadata": {},
   "outputs": [],
   "source": [
    "data_games = []\n",
    "for l in parse('C:\\\\Users\\\\Usuario\\\\source\\\\repos\\\\steam_games.json.gz'):\n",
    "        data_games.append(l)"
   ]
  },
  {
   "cell_type": "code",
   "execution_count": 5,
   "metadata": {},
   "outputs": [],
   "source": [
    "data_reviews=pd.read_csv('C:\\\\Users\\\\Usuario\\\\source\\\\data_reviews.csv')"
   ]
  },
  {
   "cell_type": "markdown",
   "metadata": {},
   "source": [
    "data_games = []\n",
    "for l in parse('C:\\\\Users\\\\Usuario\\\\source\\\\repos\\\\steam_games.json.gz'):\n",
    "        data_games.append(l)"
   ]
  },
  {
   "cell_type": "code",
   "execution_count": 6,
   "metadata": {},
   "outputs": [],
   "source": [
    "data_games = pd.DataFrame(data_games)"
   ]
  },
  {
   "cell_type": "code",
   "execution_count": 38,
   "metadata": {},
   "outputs": [
    {
     "data": {
      "text/html": [
       "<div>\n",
       "<style scoped>\n",
       "    .dataframe tbody tr th:only-of-type {\n",
       "        vertical-align: middle;\n",
       "    }\n",
       "\n",
       "    .dataframe tbody tr th {\n",
       "        vertical-align: top;\n",
       "    }\n",
       "\n",
       "    .dataframe thead th {\n",
       "        text-align: right;\n",
       "    }\n",
       "</style>\n",
       "<table border=\"1\" class=\"dataframe\">\n",
       "  <thead>\n",
       "    <tr style=\"text-align: right;\">\n",
       "      <th></th>\n",
       "      <th>username</th>\n",
       "      <th>hours</th>\n",
       "      <th>products</th>\n",
       "      <th>product_id</th>\n",
       "      <th>page_order</th>\n",
       "      <th>date</th>\n",
       "      <th>text</th>\n",
       "      <th>early_access</th>\n",
       "      <th>page</th>\n",
       "      <th>user_id</th>\n",
       "      <th>found_funny</th>\n",
       "      <th>compensation</th>\n",
       "    </tr>\n",
       "  </thead>\n",
       "  <tbody>\n",
       "    <tr>\n",
       "      <th>0</th>\n",
       "      <td>Chaos Syren</td>\n",
       "      <td>0.1</td>\n",
       "      <td>41.0</td>\n",
       "      <td>725280</td>\n",
       "      <td>0</td>\n",
       "      <td>2017-12-17</td>\n",
       "      <td>This would not be acceptable as an entertainme...</td>\n",
       "      <td>False</td>\n",
       "      <td>1</td>\n",
       "      <td>NaN</td>\n",
       "      <td>NaN</td>\n",
       "      <td>NaN</td>\n",
       "    </tr>\n",
       "    <tr>\n",
       "      <th>1</th>\n",
       "      <td>MrNinjaSquirrel</td>\n",
       "      <td>1.2</td>\n",
       "      <td>1720.0</td>\n",
       "      <td>288690</td>\n",
       "      <td>2</td>\n",
       "      <td>2014-12-17</td>\n",
       "      <td>\"It's like Sudoku, but as a ball!\"\\nI have to ...</td>\n",
       "      <td>False</td>\n",
       "      <td>1</td>\n",
       "      <td>NaN</td>\n",
       "      <td>NaN</td>\n",
       "      <td>NaN</td>\n",
       "    </tr>\n",
       "    <tr>\n",
       "      <th>2</th>\n",
       "      <td>HeadShot</td>\n",
       "      <td>0.6</td>\n",
       "      <td>1035.0</td>\n",
       "      <td>384210</td>\n",
       "      <td>2</td>\n",
       "      <td>2017-01-30</td>\n",
       "      <td>I say, colour discrimination. Why is it the re...</td>\n",
       "      <td>False</td>\n",
       "      <td>1</td>\n",
       "      <td>NaN</td>\n",
       "      <td>NaN</td>\n",
       "      <td>NaN</td>\n",
       "    </tr>\n",
       "    <tr>\n",
       "      <th>3</th>\n",
       "      <td>Rapxtor</td>\n",
       "      <td>59.7</td>\n",
       "      <td>1597.0</td>\n",
       "      <td>399660</td>\n",
       "      <td>1</td>\n",
       "      <td>2017-06-21</td>\n",
       "      <td>Ive always been a fan of the C&amp;C franchise, an...</td>\n",
       "      <td>False</td>\n",
       "      <td>1</td>\n",
       "      <td>NaN</td>\n",
       "      <td>NaN</td>\n",
       "      <td>NaN</td>\n",
       "    </tr>\n",
       "    <tr>\n",
       "      <th>4</th>\n",
       "      <td>Nyc2x</td>\n",
       "      <td>4.3</td>\n",
       "      <td>471.0</td>\n",
       "      <td>35600</td>\n",
       "      <td>0</td>\n",
       "      <td>2014-12-24</td>\n",
       "      <td>A hybrid adventure/puzzle game that will reall...</td>\n",
       "      <td>False</td>\n",
       "      <td>3</td>\n",
       "      <td>NaN</td>\n",
       "      <td>NaN</td>\n",
       "      <td>NaN</td>\n",
       "    </tr>\n",
       "  </tbody>\n",
       "</table>\n",
       "</div>"
      ],
      "text/plain": [
       "          username  hours  products  product_id  page_order        date  \\\n",
       "0      Chaos Syren    0.1      41.0      725280           0  2017-12-17   \n",
       "1  MrNinjaSquirrel    1.2    1720.0      288690           2  2014-12-17   \n",
       "2         HeadShot    0.6    1035.0      384210           2  2017-01-30   \n",
       "3          Rapxtor   59.7    1597.0      399660           1  2017-06-21   \n",
       "4            Nyc2x    4.3     471.0       35600           0  2014-12-24   \n",
       "\n",
       "                                                text  early_access  page  \\\n",
       "0  This would not be acceptable as an entertainme...         False     1   \n",
       "1  \"It's like Sudoku, but as a ball!\"\\nI have to ...         False     1   \n",
       "2  I say, colour discrimination. Why is it the re...         False     1   \n",
       "3  Ive always been a fan of the C&C franchise, an...         False     1   \n",
       "4  A hybrid adventure/puzzle game that will reall...         False     3   \n",
       "\n",
       "   user_id  found_funny compensation  \n",
       "0      NaN          NaN          NaN  \n",
       "1      NaN          NaN          NaN  \n",
       "2      NaN          NaN          NaN  \n",
       "3      NaN          NaN          NaN  \n",
       "4      NaN          NaN          NaN  "
      ]
     },
     "execution_count": 38,
     "metadata": {},
     "output_type": "execute_result"
    }
   ],
   "source": [
    "data_reviews.head()"
   ]
  },
  {
   "cell_type": "markdown",
   "metadata": {},
   "source": [
    "### DESCRIPCIÓN DE FEATURES DATA_REVIEWS"
   ]
  },
  {
   "cell_type": "markdown",
   "metadata": {},
   "source": [
    "**username:** Nombre del usuario que ha dejado la reseña\n",
    "\n",
    "**hours:** Cantidad de horas jugadas (acumuladas) en el juego al cual se le ha hecho la reseña\n",
    "\n",
    "**products:** Cantidad de otros juegos probados\n",
    "\n",
    "**product_id:** Identificacion númerica del juego reseñado\n",
    "\n",
    "**page_order:** Número de página en el cual se encuentra el juego dentro de la plataforma\n",
    "\n",
    "**date:** Fecha en la cual se ha creado la reseña\n",
    "\n",
    "**text:** Comentario sobre el juego\n",
    "\n",
    "**early_access:** Si es True significa que el juego puede ser adquirido durante su etapa de desarrollo\n",
    "\n",
    "**page:** No es interpretable\n",
    "\n",
    "**user_id:** Identificacion númerica del usuario creador de la reseña\n",
    "\n",
    "**found_funny:** Cantidad de calificaciones positivas creadas por otros usuarios\n",
    "\n",
    "**compensation:** Variable no interpretable dada la cantidad de valores nulos contenidos en ella\n"
   ]
  },
  {
   "cell_type": "code",
   "execution_count": 8,
   "metadata": {
    "scrolled": true
   },
   "outputs": [
    {
     "data": {
      "text/html": [
       "<div>\n",
       "<style scoped>\n",
       "    .dataframe tbody tr th:only-of-type {\n",
       "        vertical-align: middle;\n",
       "    }\n",
       "\n",
       "    .dataframe tbody tr th {\n",
       "        vertical-align: top;\n",
       "    }\n",
       "\n",
       "    .dataframe thead th {\n",
       "        text-align: right;\n",
       "    }\n",
       "</style>\n",
       "<table border=\"1\" class=\"dataframe\">\n",
       "  <thead>\n",
       "    <tr style=\"text-align: right;\">\n",
       "      <th></th>\n",
       "      <th>publisher</th>\n",
       "      <th>genres</th>\n",
       "      <th>app_name</th>\n",
       "      <th>title</th>\n",
       "      <th>url</th>\n",
       "      <th>release_date</th>\n",
       "      <th>tags</th>\n",
       "      <th>discount_price</th>\n",
       "      <th>reviews_url</th>\n",
       "      <th>specs</th>\n",
       "      <th>price</th>\n",
       "      <th>early_access</th>\n",
       "      <th>id</th>\n",
       "      <th>developer</th>\n",
       "      <th>sentiment</th>\n",
       "      <th>metascore</th>\n",
       "    </tr>\n",
       "  </thead>\n",
       "  <tbody>\n",
       "    <tr>\n",
       "      <th>0</th>\n",
       "      <td>Kotoshiro</td>\n",
       "      <td>[Action, Casual, Indie, Simulation, Strategy]</td>\n",
       "      <td>Lost Summoner Kitty</td>\n",
       "      <td>Lost Summoner Kitty</td>\n",
       "      <td>http://store.steampowered.com/app/761140/Lost_...</td>\n",
       "      <td>2018-01-04</td>\n",
       "      <td>[Strategy, Action, Indie, Casual, Simulation]</td>\n",
       "      <td>4.49</td>\n",
       "      <td>http://steamcommunity.com/app/761140/reviews/?...</td>\n",
       "      <td>[Single-player]</td>\n",
       "      <td>4.99</td>\n",
       "      <td>False</td>\n",
       "      <td>761140</td>\n",
       "      <td>Kotoshiro</td>\n",
       "      <td>NaN</td>\n",
       "      <td>NaN</td>\n",
       "    </tr>\n",
       "    <tr>\n",
       "      <th>1</th>\n",
       "      <td>Making Fun, Inc.</td>\n",
       "      <td>[Free to Play, Indie, RPG, Strategy]</td>\n",
       "      <td>Ironbound</td>\n",
       "      <td>Ironbound</td>\n",
       "      <td>http://store.steampowered.com/app/643980/Ironb...</td>\n",
       "      <td>2018-01-04</td>\n",
       "      <td>[Free to Play, Strategy, Indie, RPG, Card Game...</td>\n",
       "      <td>NaN</td>\n",
       "      <td>http://steamcommunity.com/app/643980/reviews/?...</td>\n",
       "      <td>[Single-player, Multi-player, Online Multi-Pla...</td>\n",
       "      <td>Free To Play</td>\n",
       "      <td>False</td>\n",
       "      <td>643980</td>\n",
       "      <td>Secret Level SRL</td>\n",
       "      <td>Mostly Positive</td>\n",
       "      <td>NaN</td>\n",
       "    </tr>\n",
       "    <tr>\n",
       "      <th>2</th>\n",
       "      <td>Poolians.com</td>\n",
       "      <td>[Casual, Free to Play, Indie, Simulation, Sports]</td>\n",
       "      <td>Real Pool 3D - Poolians</td>\n",
       "      <td>Real Pool 3D - Poolians</td>\n",
       "      <td>http://store.steampowered.com/app/670290/Real_...</td>\n",
       "      <td>2017-07-24</td>\n",
       "      <td>[Free to Play, Simulation, Sports, Casual, Ind...</td>\n",
       "      <td>NaN</td>\n",
       "      <td>http://steamcommunity.com/app/670290/reviews/?...</td>\n",
       "      <td>[Single-player, Multi-player, Online Multi-Pla...</td>\n",
       "      <td>Free to Play</td>\n",
       "      <td>False</td>\n",
       "      <td>670290</td>\n",
       "      <td>Poolians.com</td>\n",
       "      <td>Mostly Positive</td>\n",
       "      <td>NaN</td>\n",
       "    </tr>\n",
       "    <tr>\n",
       "      <th>3</th>\n",
       "      <td>彼岸领域</td>\n",
       "      <td>[Action, Adventure, Casual]</td>\n",
       "      <td>弹炸人2222</td>\n",
       "      <td>弹炸人2222</td>\n",
       "      <td>http://store.steampowered.com/app/767400/2222/</td>\n",
       "      <td>2017-12-07</td>\n",
       "      <td>[Action, Adventure, Casual]</td>\n",
       "      <td>0.83</td>\n",
       "      <td>http://steamcommunity.com/app/767400/reviews/?...</td>\n",
       "      <td>[Single-player]</td>\n",
       "      <td>0.99</td>\n",
       "      <td>False</td>\n",
       "      <td>767400</td>\n",
       "      <td>彼岸领域</td>\n",
       "      <td>NaN</td>\n",
       "      <td>NaN</td>\n",
       "    </tr>\n",
       "    <tr>\n",
       "      <th>4</th>\n",
       "      <td>NaN</td>\n",
       "      <td>NaN</td>\n",
       "      <td>Log Challenge</td>\n",
       "      <td>NaN</td>\n",
       "      <td>http://store.steampowered.com/app/773570/Log_C...</td>\n",
       "      <td>NaN</td>\n",
       "      <td>[Action, Indie, Casual, Sports]</td>\n",
       "      <td>1.79</td>\n",
       "      <td>http://steamcommunity.com/app/773570/reviews/?...</td>\n",
       "      <td>[Single-player, Full controller support, HTC V...</td>\n",
       "      <td>2.99</td>\n",
       "      <td>False</td>\n",
       "      <td>773570</td>\n",
       "      <td>NaN</td>\n",
       "      <td>NaN</td>\n",
       "      <td>NaN</td>\n",
       "    </tr>\n",
       "  </tbody>\n",
       "</table>\n",
       "</div>"
      ],
      "text/plain": [
       "          publisher                                             genres  \\\n",
       "0         Kotoshiro      [Action, Casual, Indie, Simulation, Strategy]   \n",
       "1  Making Fun, Inc.               [Free to Play, Indie, RPG, Strategy]   \n",
       "2      Poolians.com  [Casual, Free to Play, Indie, Simulation, Sports]   \n",
       "3              彼岸领域                        [Action, Adventure, Casual]   \n",
       "4               NaN                                                NaN   \n",
       "\n",
       "                  app_name                    title  \\\n",
       "0      Lost Summoner Kitty      Lost Summoner Kitty   \n",
       "1                Ironbound                Ironbound   \n",
       "2  Real Pool 3D - Poolians  Real Pool 3D - Poolians   \n",
       "3                  弹炸人2222                  弹炸人2222   \n",
       "4            Log Challenge                      NaN   \n",
       "\n",
       "                                                 url release_date  \\\n",
       "0  http://store.steampowered.com/app/761140/Lost_...   2018-01-04   \n",
       "1  http://store.steampowered.com/app/643980/Ironb...   2018-01-04   \n",
       "2  http://store.steampowered.com/app/670290/Real_...   2017-07-24   \n",
       "3     http://store.steampowered.com/app/767400/2222/   2017-12-07   \n",
       "4  http://store.steampowered.com/app/773570/Log_C...          NaN   \n",
       "\n",
       "                                                tags  discount_price  \\\n",
       "0      [Strategy, Action, Indie, Casual, Simulation]            4.49   \n",
       "1  [Free to Play, Strategy, Indie, RPG, Card Game...             NaN   \n",
       "2  [Free to Play, Simulation, Sports, Casual, Ind...             NaN   \n",
       "3                        [Action, Adventure, Casual]            0.83   \n",
       "4                    [Action, Indie, Casual, Sports]            1.79   \n",
       "\n",
       "                                         reviews_url  \\\n",
       "0  http://steamcommunity.com/app/761140/reviews/?...   \n",
       "1  http://steamcommunity.com/app/643980/reviews/?...   \n",
       "2  http://steamcommunity.com/app/670290/reviews/?...   \n",
       "3  http://steamcommunity.com/app/767400/reviews/?...   \n",
       "4  http://steamcommunity.com/app/773570/reviews/?...   \n",
       "\n",
       "                                               specs         price  \\\n",
       "0                                    [Single-player]          4.99   \n",
       "1  [Single-player, Multi-player, Online Multi-Pla...  Free To Play   \n",
       "2  [Single-player, Multi-player, Online Multi-Pla...  Free to Play   \n",
       "3                                    [Single-player]          0.99   \n",
       "4  [Single-player, Full controller support, HTC V...          2.99   \n",
       "\n",
       "   early_access      id         developer        sentiment metascore  \n",
       "0         False  761140         Kotoshiro              NaN       NaN  \n",
       "1         False  643980  Secret Level SRL  Mostly Positive       NaN  \n",
       "2         False  670290      Poolians.com  Mostly Positive       NaN  \n",
       "3         False  767400              彼岸领域              NaN       NaN  \n",
       "4         False  773570               NaN              NaN       NaN  "
      ]
     },
     "execution_count": 8,
     "metadata": {},
     "output_type": "execute_result"
    }
   ],
   "source": [
    "data_games.head()"
   ]
  },
  {
   "cell_type": "markdown",
   "metadata": {},
   "source": [
    "### DESCRIPCIÓN DE FEATURES INCLUIDOS EN DATA_GAMES"
   ]
  },
  {
   "cell_type": "markdown",
   "metadata": {},
   "source": [
    "**desarrollador:** Creador del juego\n",
    "\n",
    "**genres:** Géneros, caracteristicas del juego\n",
    "\n",
    "**app_name:** Editor del juego\n",
    "\n",
    "**title:** Nombre del juego\n",
    "\n",
    "**url:** Dirección web donde encontrarlo\n",
    "\n",
    "**release_date:** Fecha de lanzamiento\n",
    "\n",
    "**tags:** Etiquetas relacionadas con el juego\n",
    "\n",
    "**discount_price:** Precio con descuento incluido\n",
    "\n",
    "**reviews_url:** Dirección web donde encontrar las reseñas sobre el juego\n",
    "\n",
    "**specs:** Especificaciones\n",
    "\n",
    "**price:** Precio sin descuento\n",
    "\n",
    "**early_access:** Si es True significa que el juego puede ser adquirido durante su etapa de desarrollo\n",
    "\n",
    "**id:** Identificacion númerica del juego publicado\n",
    "\n",
    "**sentiment:** Emoción promedio generada en los usuarios\n",
    "\n",
    "**metascore:** Puntaje promedio recibido por los usuarios\n"
   ]
  },
  {
   "cell_type": "markdown",
   "metadata": {},
   "source": [
    "### ANALISIS EXPLORATORIO DATA_REVIEWS"
   ]
  },
  {
   "cell_type": "code",
   "execution_count": 9,
   "metadata": {},
   "outputs": [
    {
     "data": {
      "text/html": [
       "<div>\n",
       "<style scoped>\n",
       "    .dataframe tbody tr th:only-of-type {\n",
       "        vertical-align: middle;\n",
       "    }\n",
       "\n",
       "    .dataframe tbody tr th {\n",
       "        vertical-align: top;\n",
       "    }\n",
       "\n",
       "    .dataframe thead th {\n",
       "        text-align: right;\n",
       "    }\n",
       "</style>\n",
       "<table border=\"1\" class=\"dataframe\">\n",
       "  <thead>\n",
       "    <tr style=\"text-align: right;\">\n",
       "      <th></th>\n",
       "      <th>Unnamed: 0</th>\n",
       "      <th>username</th>\n",
       "      <th>hours</th>\n",
       "      <th>products</th>\n",
       "      <th>product_id</th>\n",
       "      <th>page_order</th>\n",
       "      <th>date</th>\n",
       "      <th>text</th>\n",
       "      <th>early_access</th>\n",
       "      <th>page</th>\n",
       "      <th>user_id</th>\n",
       "      <th>found_funny</th>\n",
       "      <th>compensation</th>\n",
       "    </tr>\n",
       "  </thead>\n",
       "  <tbody>\n",
       "    <tr>\n",
       "      <th>0</th>\n",
       "      <td>0</td>\n",
       "      <td>Chaos Syren</td>\n",
       "      <td>0.1</td>\n",
       "      <td>41.0</td>\n",
       "      <td>725280</td>\n",
       "      <td>0</td>\n",
       "      <td>2017-12-17</td>\n",
       "      <td>This would not be acceptable as an entertainme...</td>\n",
       "      <td>False</td>\n",
       "      <td>1</td>\n",
       "      <td>NaN</td>\n",
       "      <td>NaN</td>\n",
       "      <td>NaN</td>\n",
       "    </tr>\n",
       "    <tr>\n",
       "      <th>1</th>\n",
       "      <td>1</td>\n",
       "      <td>MrNinjaSquirrel</td>\n",
       "      <td>1.2</td>\n",
       "      <td>1720.0</td>\n",
       "      <td>288690</td>\n",
       "      <td>2</td>\n",
       "      <td>2014-12-17</td>\n",
       "      <td>\"It's like Sudoku, but as a ball!\"\\nI have to ...</td>\n",
       "      <td>False</td>\n",
       "      <td>1</td>\n",
       "      <td>NaN</td>\n",
       "      <td>NaN</td>\n",
       "      <td>NaN</td>\n",
       "    </tr>\n",
       "    <tr>\n",
       "      <th>2</th>\n",
       "      <td>2</td>\n",
       "      <td>HeadShot</td>\n",
       "      <td>0.6</td>\n",
       "      <td>1035.0</td>\n",
       "      <td>384210</td>\n",
       "      <td>2</td>\n",
       "      <td>2017-01-30</td>\n",
       "      <td>I say, colour discrimination. Why is it the re...</td>\n",
       "      <td>False</td>\n",
       "      <td>1</td>\n",
       "      <td>NaN</td>\n",
       "      <td>NaN</td>\n",
       "      <td>NaN</td>\n",
       "    </tr>\n",
       "    <tr>\n",
       "      <th>3</th>\n",
       "      <td>3</td>\n",
       "      <td>Rapxtor</td>\n",
       "      <td>59.7</td>\n",
       "      <td>1597.0</td>\n",
       "      <td>399660</td>\n",
       "      <td>1</td>\n",
       "      <td>2017-06-21</td>\n",
       "      <td>Ive always been a fan of the C&amp;C franchise, an...</td>\n",
       "      <td>False</td>\n",
       "      <td>1</td>\n",
       "      <td>NaN</td>\n",
       "      <td>NaN</td>\n",
       "      <td>NaN</td>\n",
       "    </tr>\n",
       "    <tr>\n",
       "      <th>4</th>\n",
       "      <td>4</td>\n",
       "      <td>Nyc2x</td>\n",
       "      <td>4.3</td>\n",
       "      <td>471.0</td>\n",
       "      <td>35600</td>\n",
       "      <td>0</td>\n",
       "      <td>2014-12-24</td>\n",
       "      <td>A hybrid adventure/puzzle game that will reall...</td>\n",
       "      <td>False</td>\n",
       "      <td>3</td>\n",
       "      <td>NaN</td>\n",
       "      <td>NaN</td>\n",
       "      <td>NaN</td>\n",
       "    </tr>\n",
       "  </tbody>\n",
       "</table>\n",
       "</div>"
      ],
      "text/plain": [
       "   Unnamed: 0         username  hours  products  product_id  page_order  \\\n",
       "0           0      Chaos Syren    0.1      41.0      725280           0   \n",
       "1           1  MrNinjaSquirrel    1.2    1720.0      288690           2   \n",
       "2           2         HeadShot    0.6    1035.0      384210           2   \n",
       "3           3          Rapxtor   59.7    1597.0      399660           1   \n",
       "4           4            Nyc2x    4.3     471.0       35600           0   \n",
       "\n",
       "         date                                               text  \\\n",
       "0  2017-12-17  This would not be acceptable as an entertainme...   \n",
       "1  2014-12-17  \"It's like Sudoku, but as a ball!\"\\nI have to ...   \n",
       "2  2017-01-30  I say, colour discrimination. Why is it the re...   \n",
       "3  2017-06-21  Ive always been a fan of the C&C franchise, an...   \n",
       "4  2014-12-24  A hybrid adventure/puzzle game that will reall...   \n",
       "\n",
       "   early_access  page  user_id  found_funny compensation  \n",
       "0         False     1      NaN          NaN          NaN  \n",
       "1         False     1      NaN          NaN          NaN  \n",
       "2         False     1      NaN          NaN          NaN  \n",
       "3         False     1      NaN          NaN          NaN  \n",
       "4         False     3      NaN          NaN          NaN  "
      ]
     },
     "execution_count": 9,
     "metadata": {},
     "output_type": "execute_result"
    }
   ],
   "source": [
    "data_reviews.head()"
   ]
  },
  {
   "cell_type": "code",
   "execution_count": 10,
   "metadata": {},
   "outputs": [],
   "source": [
    "data_reviews.drop('Unnamed: 0',axis=1,inplace=True)"
   ]
  },
  {
   "cell_type": "markdown",
   "metadata": {},
   "source": [
    "Cantidad de filas y columnas"
   ]
  },
  {
   "cell_type": "code",
   "execution_count": 11,
   "metadata": {},
   "outputs": [
    {
     "data": {
      "text/plain": [
       "(77931, 12)"
      ]
     },
     "execution_count": 11,
     "metadata": {},
     "output_type": "execute_result"
    }
   ],
   "source": [
    "data_reviews.shape"
   ]
  },
  {
   "cell_type": "markdown",
   "metadata": {},
   "source": [
    "Información del tipo de dato contenido en cada feature"
   ]
  },
  {
   "cell_type": "code",
   "execution_count": 12,
   "metadata": {},
   "outputs": [
    {
     "name": "stdout",
     "output_type": "stream",
     "text": [
      "<class 'pandas.core.frame.DataFrame'>\n",
      "RangeIndex: 77931 entries, 0 to 77930\n",
      "Data columns (total 12 columns):\n",
      " #   Column        Non-Null Count  Dtype  \n",
      "---  ------        --------------  -----  \n",
      " 0   username      77930 non-null  object \n",
      " 1   hours         77653 non-null  float64\n",
      " 2   products      77761 non-null  float64\n",
      " 3   product_id    77931 non-null  int64  \n",
      " 4   page_order    77931 non-null  int64  \n",
      " 5   date          77931 non-null  object \n",
      " 6   text          77763 non-null  object \n",
      " 7   early_access  77931 non-null  bool   \n",
      " 8   page          77931 non-null  int64  \n",
      " 9   user_id       31618 non-null  float64\n",
      " 10  found_funny   12053 non-null  float64\n",
      " 11  compensation  1403 non-null   object \n",
      "dtypes: bool(1), float64(4), int64(3), object(4)\n",
      "memory usage: 6.6+ MB\n"
     ]
    }
   ],
   "source": [
    "data_reviews.info()"
   ]
  },
  {
   "cell_type": "markdown",
   "metadata": {},
   "source": [
    "Estadisticos de las variables númericas que contribuyen a definir la calificación del usuario"
   ]
  },
  {
   "cell_type": "code",
   "execution_count": 13,
   "metadata": {},
   "outputs": [
    {
     "data": {
      "text/html": [
       "<div>\n",
       "<style scoped>\n",
       "    .dataframe tbody tr th:only-of-type {\n",
       "        vertical-align: middle;\n",
       "    }\n",
       "\n",
       "    .dataframe tbody tr th {\n",
       "        vertical-align: top;\n",
       "    }\n",
       "\n",
       "    .dataframe thead th {\n",
       "        text-align: right;\n",
       "    }\n",
       "</style>\n",
       "<table border=\"1\" class=\"dataframe\">\n",
       "  <thead>\n",
       "    <tr style=\"text-align: right;\">\n",
       "      <th></th>\n",
       "      <th>hours</th>\n",
       "      <th>products</th>\n",
       "      <th>found_funny</th>\n",
       "    </tr>\n",
       "  </thead>\n",
       "  <tbody>\n",
       "    <tr>\n",
       "      <th>count</th>\n",
       "      <td>77653.000000</td>\n",
       "      <td>77761.000000</td>\n",
       "      <td>12053.000000</td>\n",
       "    </tr>\n",
       "    <tr>\n",
       "      <th>mean</th>\n",
       "      <td>113.382229</td>\n",
       "      <td>236.004295</td>\n",
       "      <td>8.445200</td>\n",
       "    </tr>\n",
       "    <tr>\n",
       "      <th>std</th>\n",
       "      <td>395.486481</td>\n",
       "      <td>472.203484</td>\n",
       "      <td>83.994647</td>\n",
       "    </tr>\n",
       "    <tr>\n",
       "      <th>min</th>\n",
       "      <td>0.000000</td>\n",
       "      <td>1.000000</td>\n",
       "      <td>1.000000</td>\n",
       "    </tr>\n",
       "    <tr>\n",
       "      <th>25%</th>\n",
       "      <td>4.000000</td>\n",
       "      <td>46.000000</td>\n",
       "      <td>1.000000</td>\n",
       "    </tr>\n",
       "    <tr>\n",
       "      <th>50%</th>\n",
       "      <td>15.400000</td>\n",
       "      <td>111.000000</td>\n",
       "      <td>1.000000</td>\n",
       "    </tr>\n",
       "    <tr>\n",
       "      <th>75%</th>\n",
       "      <td>59.500000</td>\n",
       "      <td>247.000000</td>\n",
       "      <td>3.000000</td>\n",
       "    </tr>\n",
       "    <tr>\n",
       "      <th>max</th>\n",
       "      <td>18543.300000</td>\n",
       "      <td>11222.000000</td>\n",
       "      <td>4051.000000</td>\n",
       "    </tr>\n",
       "  </tbody>\n",
       "</table>\n",
       "</div>"
      ],
      "text/plain": [
       "              hours      products   found_funny\n",
       "count  77653.000000  77761.000000  12053.000000\n",
       "mean     113.382229    236.004295      8.445200\n",
       "std      395.486481    472.203484     83.994647\n",
       "min        0.000000      1.000000      1.000000\n",
       "25%        4.000000     46.000000      1.000000\n",
       "50%       15.400000    111.000000      1.000000\n",
       "75%       59.500000    247.000000      3.000000\n",
       "max    18543.300000  11222.000000   4051.000000"
      ]
     },
     "execution_count": 13,
     "metadata": {},
     "output_type": "execute_result"
    }
   ],
   "source": [
    "data_reviews.loc[:,['hours','products','found_funny']].describe()"
   ]
  },
  {
   "cell_type": "markdown",
   "metadata": {},
   "source": [
    "De los estadisticos obtenidos podemos decir que la base de datos contiene valores outlier o que carecen de sentido, mas abajo grafico la ditribución de los features \"hours\" y \"products\" con el fin de visualizar la afirmación aquí contenida."
   ]
  },
  {
   "cell_type": "markdown",
   "metadata": {},
   "source": [
    "Valores nulos contenidos en cada feature"
   ]
  },
  {
   "cell_type": "code",
   "execution_count": 72,
   "metadata": {},
   "outputs": [
    {
     "data": {
      "text/plain": [
       "username            0\n",
       "hours             278\n",
       "products          170\n",
       "product_id          0\n",
       "page_order          0\n",
       "date                0\n",
       "text              168\n",
       "early_access        0\n",
       "page                0\n",
       "user_id         46313\n",
       "found_funny     65878\n",
       "compensation    76527\n",
       "dtype: int64"
      ]
     },
     "execution_count": 72,
     "metadata": {},
     "output_type": "execute_result"
    }
   ],
   "source": [
    "data_reviews.isna().sum()"
   ]
  },
  {
   "cell_type": "markdown",
   "metadata": {},
   "source": [
    "Visualización de la distribución de la variable \"hours\""
   ]
  },
  {
   "cell_type": "code",
   "execution_count": 15,
   "metadata": {},
   "outputs": [
    {
     "data": {
      "text/plain": [
       "<matplotlib.axes._subplots.AxesSubplot at 0x19f119d0d30>"
      ]
     },
     "execution_count": 15,
     "metadata": {},
     "output_type": "execute_result"
    },
    {
     "data": {
      "image/png": "[encoded data removed]",
      "text/plain": [
       "<Figure size 1440x720 with 2 Axes>"
      ]
     },
     "metadata": {
      "needs_background": "light"
     },
     "output_type": "display_data"
    }
   ],
   "source": [
    "\n",
    "plt.figure(figsize=(20, 10))\n",
    "\n",
    "\n",
    "plt.subplot(3,1,1)\n",
    "sns.kdeplot(data=data_reviews.hours)\n",
    "\n",
    "plt.subplot(3,1,2)\n",
    "sns.boxplot(data=data_reviews.hours)\n",
    "\n"
   ]
  },
  {
   "cell_type": "markdown",
   "metadata": {},
   "source": [
    "Visualización de la distribución de la variable \"products\""
   ]
  },
  {
   "cell_type": "code",
   "execution_count": 16,
   "metadata": {},
   "outputs": [
    {
     "data": {
      "text/plain": [
       "<matplotlib.axes._subplots.AxesSubplot at 0x19f132bd640>"
      ]
     },
     "execution_count": 16,
     "metadata": {},
     "output_type": "execute_result"
    },
    {
     "data": {
      "image/png": "[encoded data removed]",
      "text/plain": [
       "<Figure size 1440x720 with 2 Axes>"
      ]
     },
     "metadata": {
      "needs_background": "light"
     },
     "output_type": "display_data"
    }
   ],
   "source": [
    "plt.figure(figsize=(20, 10))\n",
    "\n",
    "plt.subplot(3,1,1)\n",
    "sns.kdeplot(data=data_reviews.products)\n",
    "\n",
    "plt.subplot(3,1,2)\n",
    "sns.boxplot(data=data_reviews.products)"
   ]
  },
  {
   "cell_type": "code",
   "execution_count": 17,
   "metadata": {},
   "outputs": [
    {
     "data": {
      "text/html": [
       "<div>\n",
       "<style scoped>\n",
       "    .dataframe tbody tr th:only-of-type {\n",
       "        vertical-align: middle;\n",
       "    }\n",
       "\n",
       "    .dataframe tbody tr th {\n",
       "        vertical-align: top;\n",
       "    }\n",
       "\n",
       "    .dataframe thead th {\n",
       "        text-align: right;\n",
       "    }\n",
       "</style>\n",
       "<table border=\"1\" class=\"dataframe\">\n",
       "  <thead>\n",
       "    <tr style=\"text-align: right;\">\n",
       "      <th></th>\n",
       "      <th>username</th>\n",
       "      <th>hours</th>\n",
       "      <th>products</th>\n",
       "      <th>product_id</th>\n",
       "      <th>page_order</th>\n",
       "      <th>date</th>\n",
       "      <th>text</th>\n",
       "      <th>early_access</th>\n",
       "      <th>page</th>\n",
       "      <th>user_id</th>\n",
       "      <th>found_funny</th>\n",
       "      <th>compensation</th>\n",
       "    </tr>\n",
       "  </thead>\n",
       "  <tbody>\n",
       "    <tr>\n",
       "      <th>13218</th>\n",
       "      <td>NaN</td>\n",
       "      <td>15.1</td>\n",
       "      <td>141.0</td>\n",
       "      <td>240760</td>\n",
       "      <td>3</td>\n",
       "      <td>2016-10-09</td>\n",
       "      <td>Wasteland 2 aka save-load simulator:\\n65% of m...</td>\n",
       "      <td>False</td>\n",
       "      <td>38</td>\n",
       "      <td>7.656120e+16</td>\n",
       "      <td>4.0</td>\n",
       "      <td>NaN</td>\n",
       "    </tr>\n",
       "  </tbody>\n",
       "</table>\n",
       "</div>"
      ],
      "text/plain": [
       "      username  hours  products  product_id  page_order        date  \\\n",
       "13218      NaN   15.1     141.0      240760           3  2016-10-09   \n",
       "\n",
       "                                                    text  early_access  page  \\\n",
       "13218  Wasteland 2 aka save-load simulator:\\n65% of m...         False    38   \n",
       "\n",
       "            user_id  found_funny compensation  \n",
       "13218  7.656120e+16          4.0          NaN  "
      ]
     },
     "execution_count": 17,
     "metadata": {},
     "output_type": "execute_result"
    }
   ],
   "source": [
    "data_reviews[data_reviews.username.isna()]"
   ]
  },
  {
   "cell_type": "markdown",
   "metadata": {},
   "source": [
    "Elimino la fila que contiene el username vacío "
   ]
  },
  {
   "cell_type": "code",
   "execution_count": 18,
   "metadata": {},
   "outputs": [
    {
     "data": {
      "text/html": [
       "<div>\n",
       "<style scoped>\n",
       "    .dataframe tbody tr th:only-of-type {\n",
       "        vertical-align: middle;\n",
       "    }\n",
       "\n",
       "    .dataframe tbody tr th {\n",
       "        vertical-align: top;\n",
       "    }\n",
       "\n",
       "    .dataframe thead th {\n",
       "        text-align: right;\n",
       "    }\n",
       "</style>\n",
       "<table border=\"1\" class=\"dataframe\">\n",
       "  <thead>\n",
       "    <tr style=\"text-align: right;\">\n",
       "      <th></th>\n",
       "      <th>username</th>\n",
       "      <th>hours</th>\n",
       "      <th>products</th>\n",
       "      <th>product_id</th>\n",
       "      <th>page_order</th>\n",
       "      <th>date</th>\n",
       "      <th>text</th>\n",
       "      <th>early_access</th>\n",
       "      <th>page</th>\n",
       "      <th>user_id</th>\n",
       "      <th>found_funny</th>\n",
       "      <th>compensation</th>\n",
       "    </tr>\n",
       "  </thead>\n",
       "  <tbody>\n",
       "    <tr>\n",
       "      <th>0</th>\n",
       "      <td>Chaos Syren</td>\n",
       "      <td>0.1</td>\n",
       "      <td>41.0</td>\n",
       "      <td>725280</td>\n",
       "      <td>0</td>\n",
       "      <td>2017-12-17</td>\n",
       "      <td>This would not be acceptable as an entertainme...</td>\n",
       "      <td>False</td>\n",
       "      <td>1</td>\n",
       "      <td>NaN</td>\n",
       "      <td>NaN</td>\n",
       "      <td>NaN</td>\n",
       "    </tr>\n",
       "    <tr>\n",
       "      <th>1</th>\n",
       "      <td>MrNinjaSquirrel</td>\n",
       "      <td>1.2</td>\n",
       "      <td>1720.0</td>\n",
       "      <td>288690</td>\n",
       "      <td>2</td>\n",
       "      <td>2014-12-17</td>\n",
       "      <td>\"It's like Sudoku, but as a ball!\"\\nI have to ...</td>\n",
       "      <td>False</td>\n",
       "      <td>1</td>\n",
       "      <td>NaN</td>\n",
       "      <td>NaN</td>\n",
       "      <td>NaN</td>\n",
       "    </tr>\n",
       "    <tr>\n",
       "      <th>2</th>\n",
       "      <td>HeadShot</td>\n",
       "      <td>0.6</td>\n",
       "      <td>1035.0</td>\n",
       "      <td>384210</td>\n",
       "      <td>2</td>\n",
       "      <td>2017-01-30</td>\n",
       "      <td>I say, colour discrimination. Why is it the re...</td>\n",
       "      <td>False</td>\n",
       "      <td>1</td>\n",
       "      <td>NaN</td>\n",
       "      <td>NaN</td>\n",
       "      <td>NaN</td>\n",
       "    </tr>\n",
       "    <tr>\n",
       "      <th>3</th>\n",
       "      <td>Rapxtor</td>\n",
       "      <td>59.7</td>\n",
       "      <td>1597.0</td>\n",
       "      <td>399660</td>\n",
       "      <td>1</td>\n",
       "      <td>2017-06-21</td>\n",
       "      <td>Ive always been a fan of the C&amp;C franchise, an...</td>\n",
       "      <td>False</td>\n",
       "      <td>1</td>\n",
       "      <td>NaN</td>\n",
       "      <td>NaN</td>\n",
       "      <td>NaN</td>\n",
       "    </tr>\n",
       "    <tr>\n",
       "      <th>4</th>\n",
       "      <td>Nyc2x</td>\n",
       "      <td>4.3</td>\n",
       "      <td>471.0</td>\n",
       "      <td>35600</td>\n",
       "      <td>0</td>\n",
       "      <td>2014-12-24</td>\n",
       "      <td>A hybrid adventure/puzzle game that will reall...</td>\n",
       "      <td>False</td>\n",
       "      <td>3</td>\n",
       "      <td>NaN</td>\n",
       "      <td>NaN</td>\n",
       "      <td>NaN</td>\n",
       "    </tr>\n",
       "    <tr>\n",
       "      <th>...</th>\n",
       "      <td>...</td>\n",
       "      <td>...</td>\n",
       "      <td>...</td>\n",
       "      <td>...</td>\n",
       "      <td>...</td>\n",
       "      <td>...</td>\n",
       "      <td>...</td>\n",
       "      <td>...</td>\n",
       "      <td>...</td>\n",
       "      <td>...</td>\n",
       "      <td>...</td>\n",
       "      <td>...</td>\n",
       "    </tr>\n",
       "    <tr>\n",
       "      <th>77926</th>\n",
       "      <td>Gm Prodigy cs.money</td>\n",
       "      <td>597.5</td>\n",
       "      <td>105.0</td>\n",
       "      <td>252490</td>\n",
       "      <td>1</td>\n",
       "      <td>2013-12-13</td>\n",
       "      <td>Very amazing game, much♥♥♥♥♥♥♥s.</td>\n",
       "      <td>True</td>\n",
       "      <td>10175</td>\n",
       "      <td>NaN</td>\n",
       "      <td>NaN</td>\n",
       "      <td>NaN</td>\n",
       "    </tr>\n",
       "    <tr>\n",
       "      <th>77927</th>\n",
       "      <td>Chocolate Coconut Cake</td>\n",
       "      <td>188.7</td>\n",
       "      <td>254.0</td>\n",
       "      <td>252490</td>\n",
       "      <td>1</td>\n",
       "      <td>2013-12-12</td>\n",
       "      <td>Terrific Game.</td>\n",
       "      <td>True</td>\n",
       "      <td>10185</td>\n",
       "      <td>NaN</td>\n",
       "      <td>NaN</td>\n",
       "      <td>NaN</td>\n",
       "    </tr>\n",
       "    <tr>\n",
       "      <th>77928</th>\n",
       "      <td>Apple Cheesepie</td>\n",
       "      <td>48.7</td>\n",
       "      <td>191.0</td>\n",
       "      <td>252490</td>\n",
       "      <td>1</td>\n",
       "      <td>2013-12-12</td>\n",
       "      <td>Like minecraft mixed with DayZ, is really fun ...</td>\n",
       "      <td>True</td>\n",
       "      <td>10195</td>\n",
       "      <td>NaN</td>\n",
       "      <td>NaN</td>\n",
       "      <td>NaN</td>\n",
       "    </tr>\n",
       "    <tr>\n",
       "      <th>77929</th>\n",
       "      <td>Cleze</td>\n",
       "      <td>1615.0</td>\n",
       "      <td>169.0</td>\n",
       "      <td>252490</td>\n",
       "      <td>1</td>\n",
       "      <td>2013-12-12</td>\n",
       "      <td>Best Survival game</td>\n",
       "      <td>True</td>\n",
       "      <td>10205</td>\n",
       "      <td>NaN</td>\n",
       "      <td>NaN</td>\n",
       "      <td>NaN</td>\n",
       "    </tr>\n",
       "    <tr>\n",
       "      <th>77930</th>\n",
       "      <td>Tupac ;)</td>\n",
       "      <td>1460.4</td>\n",
       "      <td>195.0</td>\n",
       "      <td>252490</td>\n",
       "      <td>1</td>\n",
       "      <td>2013-12-11</td>\n",
       "      <td>Great game!</td>\n",
       "      <td>True</td>\n",
       "      <td>10215</td>\n",
       "      <td>7.656120e+16</td>\n",
       "      <td>NaN</td>\n",
       "      <td>NaN</td>\n",
       "    </tr>\n",
       "  </tbody>\n",
       "</table>\n",
       "<p>77930 rows × 12 columns</p>\n",
       "</div>"
      ],
      "text/plain": [
       "                     username   hours  products  product_id  page_order  \\\n",
       "0                 Chaos Syren     0.1      41.0      725280           0   \n",
       "1             MrNinjaSquirrel     1.2    1720.0      288690           2   \n",
       "2                    HeadShot     0.6    1035.0      384210           2   \n",
       "3                     Rapxtor    59.7    1597.0      399660           1   \n",
       "4                       Nyc2x     4.3     471.0       35600           0   \n",
       "...                       ...     ...       ...         ...         ...   \n",
       "77926     Gm Prodigy cs.money   597.5     105.0      252490           1   \n",
       "77927  Chocolate Coconut Cake   188.7     254.0      252490           1   \n",
       "77928         Apple Cheesepie    48.7     191.0      252490           1   \n",
       "77929                   Cleze  1615.0     169.0      252490           1   \n",
       "77930                Tupac ;)  1460.4     195.0      252490           1   \n",
       "\n",
       "             date                                               text  \\\n",
       "0      2017-12-17  This would not be acceptable as an entertainme...   \n",
       "1      2014-12-17  \"It's like Sudoku, but as a ball!\"\\nI have to ...   \n",
       "2      2017-01-30  I say, colour discrimination. Why is it the re...   \n",
       "3      2017-06-21  Ive always been a fan of the C&C franchise, an...   \n",
       "4      2014-12-24  A hybrid adventure/puzzle game that will reall...   \n",
       "...           ...                                                ...   \n",
       "77926  2013-12-13                   Very amazing game, much♥♥♥♥♥♥♥s.   \n",
       "77927  2013-12-12                                     Terrific Game.   \n",
       "77928  2013-12-12  Like minecraft mixed with DayZ, is really fun ...   \n",
       "77929  2013-12-12                                 Best Survival game   \n",
       "77930  2013-12-11                                        Great game!   \n",
       "\n",
       "       early_access   page       user_id  found_funny compensation  \n",
       "0             False      1           NaN          NaN          NaN  \n",
       "1             False      1           NaN          NaN          NaN  \n",
       "2             False      1           NaN          NaN          NaN  \n",
       "3             False      1           NaN          NaN          NaN  \n",
       "4             False      3           NaN          NaN          NaN  \n",
       "...             ...    ...           ...          ...          ...  \n",
       "77926          True  10175           NaN          NaN          NaN  \n",
       "77927          True  10185           NaN          NaN          NaN  \n",
       "77928          True  10195           NaN          NaN          NaN  \n",
       "77929          True  10205           NaN          NaN          NaN  \n",
       "77930          True  10215  7.656120e+16          NaN          NaN  \n",
       "\n",
       "[77930 rows x 12 columns]"
      ]
     },
     "execution_count": 18,
     "metadata": {},
     "output_type": "execute_result"
    }
   ],
   "source": [
    "data_reviews.drop([13218],axis=0,inplace=True)\n",
    "data_reviews.reindex()"
   ]
  },
  {
   "cell_type": "markdown",
   "metadata": {},
   "source": [
    "Filtro el dataset quitando aquellos features que considero no van a ser útiles para el modelo"
   ]
  },
  {
   "cell_type": "code",
   "execution_count": 19,
   "metadata": {},
   "outputs": [],
   "source": [
    "data_reviews2=data_reviews.loc[:,['username','hours','products','product_id','text']]"
   ]
  },
  {
   "cell_type": "code",
   "execution_count": 73,
   "metadata": {},
   "outputs": [],
   "source": [
    "data_reviews2.dropna(inplace=True)"
   ]
  },
  {
   "cell_type": "code",
   "execution_count": 74,
   "metadata": {},
   "outputs": [
    {
     "data": {
      "text/plain": [
       "username      0\n",
       "hours         0\n",
       "products      0\n",
       "product_id    0\n",
       "text          0\n",
       "dtype: int64"
      ]
     },
     "execution_count": 74,
     "metadata": {},
     "output_type": "execute_result"
    }
   ],
   "source": [
    "data_reviews2.isna().sum()"
   ]
  },
  {
   "cell_type": "code",
   "execution_count": 120,
   "metadata": {},
   "outputs": [],
   "source": [
    "data_reviews2.reset_index(inplace=True)"
   ]
  },
  {
   "cell_type": "markdown",
   "metadata": {},
   "source": [
    "Polarity is float which lies in the range of [-1,1] where 1 means positive statement and -1 means a negative statement. Subjective sentences generally refer to personal opinion, emotion or judgment whereas objective refers to factual information. Subjectivity is also a float which lies in the range of [0,1]."
   ]
  },
  {
   "cell_type": "code",
   "execution_count": 122,
   "metadata": {},
   "outputs": [],
   "source": [
    "#data_reviews2['Polarity']=TextBlob(data_reviews2.text[i]).sentiment.polarity for i in data_reviews2.text\n",
    "\n",
    "polarity_list=[]\n",
    "subjective_list=[]\n",
    "for i in range(len(data_reviews2.text)):\n",
    "    frase=TextBlob(data_reviews2.text[i])\n",
    "    polarity=frase.sentiment.polarity\n",
    "    subjectivity=frase.sentiment.subjectivity\n",
    "    polarity_list.append(polarity)\n",
    "    subjective_list.append(subjectivity)"
   ]
  },
  {
   "cell_type": "code",
   "execution_count": 124,
   "metadata": {},
   "outputs": [],
   "source": [
    "data_reviews2['Polarity']=pd.Series(polarity_list)"
   ]
  },
  {
   "cell_type": "code",
   "execution_count": 125,
   "metadata": {},
   "outputs": [],
   "source": [
    "data_reviews2['Subjectivity']=pd.Series(subjective_list)"
   ]
  },
  {
   "cell_type": "code",
   "execution_count": 127,
   "metadata": {},
   "outputs": [
    {
     "data": {
      "text/html": [
       "<div>\n",
       "<style scoped>\n",
       "    .dataframe tbody tr th:only-of-type {\n",
       "        vertical-align: middle;\n",
       "    }\n",
       "\n",
       "    .dataframe tbody tr th {\n",
       "        vertical-align: top;\n",
       "    }\n",
       "\n",
       "    .dataframe thead th {\n",
       "        text-align: right;\n",
       "    }\n",
       "</style>\n",
       "<table border=\"1\" class=\"dataframe\">\n",
       "  <thead>\n",
       "    <tr style=\"text-align: right;\">\n",
       "      <th></th>\n",
       "      <th>index</th>\n",
       "      <th>username</th>\n",
       "      <th>hours</th>\n",
       "      <th>products</th>\n",
       "      <th>product_id</th>\n",
       "      <th>text</th>\n",
       "      <th>Polarity</th>\n",
       "      <th>Subjectivity</th>\n",
       "    </tr>\n",
       "  </thead>\n",
       "  <tbody>\n",
       "    <tr>\n",
       "      <th>0</th>\n",
       "      <td>0</td>\n",
       "      <td>Chaos Syren</td>\n",
       "      <td>0.1</td>\n",
       "      <td>41.0</td>\n",
       "      <td>725280</td>\n",
       "      <td>This would not be acceptable as an entertainme...</td>\n",
       "      <td>0.000000</td>\n",
       "      <td>0.000000</td>\n",
       "    </tr>\n",
       "    <tr>\n",
       "      <th>1</th>\n",
       "      <td>1</td>\n",
       "      <td>MrNinjaSquirrel</td>\n",
       "      <td>1.2</td>\n",
       "      <td>1720.0</td>\n",
       "      <td>288690</td>\n",
       "      <td>\"It's like Sudoku, but as a ball!\"\\nI have to ...</td>\n",
       "      <td>-0.006884</td>\n",
       "      <td>0.544220</td>\n",
       "    </tr>\n",
       "    <tr>\n",
       "      <th>2</th>\n",
       "      <td>2</td>\n",
       "      <td>HeadShot</td>\n",
       "      <td>0.6</td>\n",
       "      <td>1035.0</td>\n",
       "      <td>384210</td>\n",
       "      <td>I say, colour discrimination. Why is it the re...</td>\n",
       "      <td>-0.179630</td>\n",
       "      <td>0.465608</td>\n",
       "    </tr>\n",
       "    <tr>\n",
       "      <th>3</th>\n",
       "      <td>3</td>\n",
       "      <td>Rapxtor</td>\n",
       "      <td>59.7</td>\n",
       "      <td>1597.0</td>\n",
       "      <td>399660</td>\n",
       "      <td>Ive always been a fan of the C&amp;C franchise, an...</td>\n",
       "      <td>-0.025644</td>\n",
       "      <td>0.472727</td>\n",
       "    </tr>\n",
       "    <tr>\n",
       "      <th>4</th>\n",
       "      <td>4</td>\n",
       "      <td>Nyc2x</td>\n",
       "      <td>4.3</td>\n",
       "      <td>471.0</td>\n",
       "      <td>35600</td>\n",
       "      <td>A hybrid adventure/puzzle game that will reall...</td>\n",
       "      <td>-0.039236</td>\n",
       "      <td>0.403819</td>\n",
       "    </tr>\n",
       "    <tr>\n",
       "      <th>...</th>\n",
       "      <td>...</td>\n",
       "      <td>...</td>\n",
       "      <td>...</td>\n",
       "      <td>...</td>\n",
       "      <td>...</td>\n",
       "      <td>...</td>\n",
       "      <td>...</td>\n",
       "      <td>...</td>\n",
       "    </tr>\n",
       "    <tr>\n",
       "      <th>77309</th>\n",
       "      <td>77926</td>\n",
       "      <td>Gm Prodigy cs.money</td>\n",
       "      <td>597.5</td>\n",
       "      <td>105.0</td>\n",
       "      <td>252490</td>\n",
       "      <td>Very amazing game, much♥♥♥♥♥♥♥s.</td>\n",
       "      <td>0.190000</td>\n",
       "      <td>0.700000</td>\n",
       "    </tr>\n",
       "    <tr>\n",
       "      <th>77310</th>\n",
       "      <td>77927</td>\n",
       "      <td>Chocolate Coconut Cake</td>\n",
       "      <td>188.7</td>\n",
       "      <td>254.0</td>\n",
       "      <td>252490</td>\n",
       "      <td>Terrific Game.</td>\n",
       "      <td>-0.200000</td>\n",
       "      <td>0.700000</td>\n",
       "    </tr>\n",
       "    <tr>\n",
       "      <th>77311</th>\n",
       "      <td>77928</td>\n",
       "      <td>Apple Cheesepie</td>\n",
       "      <td>48.7</td>\n",
       "      <td>191.0</td>\n",
       "      <td>252490</td>\n",
       "      <td>Like minecraft mixed with DayZ, is really fun ...</td>\n",
       "      <td>0.120000</td>\n",
       "      <td>0.390000</td>\n",
       "    </tr>\n",
       "    <tr>\n",
       "      <th>77312</th>\n",
       "      <td>77929</td>\n",
       "      <td>Cleze</td>\n",
       "      <td>1615.0</td>\n",
       "      <td>169.0</td>\n",
       "      <td>252490</td>\n",
       "      <td>Best Survival game</td>\n",
       "      <td>0.300000</td>\n",
       "      <td>0.350000</td>\n",
       "    </tr>\n",
       "    <tr>\n",
       "      <th>77313</th>\n",
       "      <td>77930</td>\n",
       "      <td>Tupac ;)</td>\n",
       "      <td>1460.4</td>\n",
       "      <td>195.0</td>\n",
       "      <td>252490</td>\n",
       "      <td>Great game!</td>\n",
       "      <td>0.150000</td>\n",
       "      <td>0.575000</td>\n",
       "    </tr>\n",
       "  </tbody>\n",
       "</table>\n",
       "<p>77314 rows × 8 columns</p>\n",
       "</div>"
      ],
      "text/plain": [
       "       index                username   hours  products  product_id  \\\n",
       "0          0             Chaos Syren     0.1      41.0      725280   \n",
       "1          1         MrNinjaSquirrel     1.2    1720.0      288690   \n",
       "2          2                HeadShot     0.6    1035.0      384210   \n",
       "3          3                 Rapxtor    59.7    1597.0      399660   \n",
       "4          4                   Nyc2x     4.3     471.0       35600   \n",
       "...      ...                     ...     ...       ...         ...   \n",
       "77309  77926     Gm Prodigy cs.money   597.5     105.0      252490   \n",
       "77310  77927  Chocolate Coconut Cake   188.7     254.0      252490   \n",
       "77311  77928         Apple Cheesepie    48.7     191.0      252490   \n",
       "77312  77929                   Cleze  1615.0     169.0      252490   \n",
       "77313  77930                Tupac ;)  1460.4     195.0      252490   \n",
       "\n",
       "                                                    text  Polarity  \\\n",
       "0      This would not be acceptable as an entertainme...  0.000000   \n",
       "1      \"It's like Sudoku, but as a ball!\"\\nI have to ... -0.006884   \n",
       "2      I say, colour discrimination. Why is it the re... -0.179630   \n",
       "3      Ive always been a fan of the C&C franchise, an... -0.025644   \n",
       "4      A hybrid adventure/puzzle game that will reall... -0.039236   \n",
       "...                                                  ...       ...   \n",
       "77309                   Very amazing game, much♥♥♥♥♥♥♥s.  0.190000   \n",
       "77310                                     Terrific Game. -0.200000   \n",
       "77311  Like minecraft mixed with DayZ, is really fun ...  0.120000   \n",
       "77312                                 Best Survival game  0.300000   \n",
       "77313                                        Great game!  0.150000   \n",
       "\n",
       "       Subjectivity  \n",
       "0          0.000000  \n",
       "1          0.544220  \n",
       "2          0.465608  \n",
       "3          0.472727  \n",
       "4          0.403819  \n",
       "...             ...  \n",
       "77309      0.700000  \n",
       "77310      0.700000  \n",
       "77311      0.390000  \n",
       "77312      0.350000  \n",
       "77313      0.575000  \n",
       "\n",
       "[77314 rows x 8 columns]"
      ]
     },
     "execution_count": 127,
     "metadata": {},
     "output_type": "execute_result"
    }
   ],
   "source": [
    "data_reviews2"
   ]
  },
  {
   "cell_type": "code",
   "execution_count": 94,
   "metadata": {},
   "outputs": [
    {
     "data": {
      "text/plain": [
       "range(0, 77314)"
      ]
     },
     "execution_count": 94,
     "metadata": {},
     "output_type": "execute_result"
    }
   ],
   "source": [
    "range(len(data_reviews2.text))"
   ]
  },
  {
   "cell_type": "code",
   "execution_count": 109,
   "metadata": {},
   "outputs": [],
   "source": [
    "perro=TextBlob('haha, you made my day')"
   ]
  },
  {
   "cell_type": "code",
   "execution_count": 110,
   "metadata": {},
   "outputs": [
    {
     "data": {
      "text/plain": [
       "Sentiment(polarity=0.2, subjectivity=0.3)"
      ]
     },
     "execution_count": 110,
     "metadata": {},
     "output_type": "execute_result"
    }
   ],
   "source": [
    "perro.sentiment"
   ]
  },
  {
   "cell_type": "code",
   "execution_count": 108,
   "metadata": {},
   "outputs": [
    {
     "data": {
      "text/plain": [
       "'This is the best two dollars i have ever spent'"
      ]
     },
     "execution_count": 108,
     "metadata": {},
     "output_type": "execute_result"
    }
   ],
   "source": [
    "data_reviews2.text[31]"
   ]
  },
  {
   "cell_type": "code",
   "execution_count": 118,
   "metadata": {},
   "outputs": [
    {
     "data": {
      "text/plain": [
       "130    I traded for this game and was initially inter...\n",
       "131    Scroll all the way below for TL;DR / Summary\\n...\n",
       "132    Another World/ Out Of This World is a truly in...\n",
       "133    Fun during the free weekend but pretty much de...\n",
       "134                  TAKE SOME DRUGS THEN PLAY THIS GAME\n",
       "136    In this game the protagonist tells you his sad...\n",
       "Name: text, dtype: object"
      ]
     },
     "execution_count": 118,
     "metadata": {},
     "output_type": "execute_result"
    }
   ],
   "source": [
    "data_reviews2.text[130:136]"
   ]
  },
  {
   "cell_type": "code",
   "execution_count": null,
   "metadata": {},
   "outputs": [],
   "source": []
  }
 ],
 "metadata": {
  "kernelspec": {
   "display_name": "Python 3",
   "language": "python",
   "name": "python3"
  },
  "language_info": {
   "codemirror_mode": {
    "name": "ipython",
    "version": 3
   },
   "file_extension": ".py",
   "mimetype": "text/x-python",
   "name": "python",
   "nbconvert_exporter": "python",
   "pygments_lexer": "ipython3",
   "version": "3.8.3"
  }
 },
 "nbformat": 4,
 "nbformat_minor": 4
}
