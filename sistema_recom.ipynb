{
 "cells": [
  {
   "cell_type": "code",
   "execution_count": 1,
   "metadata": {},
   "outputs": [],
   "source": [
    "import numpy as np\n",
    "import matplotlib.pyplot as plt\n",
    "import seaborn as sns\n",
    "sns.set()\n",
    "from nltk.tokenize import sent_tokenize, word_tokenize\n",
    "from textblob import TextBlob\n",
    "from surprise import SVD\n",
    "from surprise import Dataset\n",
    "from surprise import Reader\n",
    "from surprise.model_selection import train_test_split\n",
    "import gc\n",
    "from surprise import accuracy\n",
    "from surprise.model_selection import cross_validate\n",
    "from surprise.model_selection import GridSearchCV"
   ]
  },
  {
   "cell_type": "markdown",
   "metadata": {},
   "source": [
    "### IMPORTACION DE DATASET"
   ]
  },
  {
   "cell_type": "code",
   "execution_count": 2,
   "metadata": {},
   "outputs": [],
   "source": [
    "import gzip\n",
    "import pandas as pd\n",
    "\n",
    "def parse(path):\n",
    "    g = gzip.open(path, 'r')\n",
    "    for l in g:\n",
    "        yield eval(l)"
   ]
  },
  {
   "cell_type": "code",
   "execution_count": 3,
   "metadata": {},
   "outputs": [],
   "source": [
    "#contador = 0\n",
    "#data_reviews = []\n",
    "# Vamos a guardar una de cada 10 reviews para no llenar la memoria RAM. Si pones n = 3, \n",
    "# abrira uno de cada tres, y asi.\n",
    "#n = 3\n",
    "#for l in parse('C:\\\\Users\\\\Usuario\\\\source\\\\repos\\\\steam_reviews.json.gz'):\n",
    "#    if contador%n == 0:\n",
    "#        data_reviews.append(l)\n",
    "#    else:\n",
    " #         pass\n",
    " #         contador += 1\n",
    "    \n",
    " \n"
   ]
  },
  {
   "cell_type": "code",
   "execution_count": 3,
   "metadata": {},
   "outputs": [],
   "source": [
    "data_games = []\n",
    "for l in parse('C:\\\\Users\\\\Usuario\\\\source\\\\repos\\\\steam_games.json.gz'):\n",
    "        data_games.append(l)"
   ]
  },
  {
   "cell_type": "code",
   "execution_count": 5,
   "metadata": {},
   "outputs": [],
   "source": [
    "#data_reviews = pd.DataFrame(data_reviews)\n",
    "#data_reviews.drop('Unnamed: 0',axis=1,inplace=True)\n"
   ]
  },
  {
   "cell_type": "code",
   "execution_count": 6,
   "metadata": {},
   "outputs": [],
   "source": [
    "#data_reviews.to_csv('C:\\\\Users\\\\Usuario\\\\source\\\\repos\\\\data_reviews.csv')\n",
    "#del data_reviews"
   ]
  },
  {
   "cell_type": "code",
   "execution_count": 4,
   "metadata": {},
   "outputs": [
    {
     "ename": "KeyboardInterrupt",
     "evalue": "",
     "output_type": "error",
     "traceback": [
      "\u001b[1;31m---------------------------------------------------------------------------\u001b[0m",
      "\u001b[1;31mKeyboardInterrupt\u001b[0m                         Traceback (most recent call last)",
      "\u001b[1;32m<ipython-input-4-152e6d0ea6eb>\u001b[0m in \u001b[0;36m<module>\u001b[1;34m\u001b[0m\n\u001b[1;32m----> 1\u001b[1;33m \u001b[0mdata_reviews\u001b[0m\u001b[1;33m=\u001b[0m \u001b[0mpd\u001b[0m\u001b[1;33m.\u001b[0m\u001b[0mread_csv\u001b[0m\u001b[1;33m(\u001b[0m\u001b[1;34m'C:\\\\Users\\\\Usuario\\\\source\\\\repos\\\\data_reviews.csv'\u001b[0m\u001b[1;33m)\u001b[0m\u001b[1;33m\u001b[0m\u001b[1;33m\u001b[0m\u001b[0m\n\u001b[0m\u001b[0;32m      2\u001b[0m \u001b[1;33m\u001b[0m\u001b[0m\n",
      "\u001b[1;32m~\\anaconda3\\lib\\site-packages\\pandas\\io\\parsers.py\u001b[0m in \u001b[0;36mread_csv\u001b[1;34m(filepath_or_buffer, sep, delimiter, header, names, index_col, usecols, squeeze, prefix, mangle_dupe_cols, dtype, engine, converters, true_values, false_values, skipinitialspace, skiprows, skipfooter, nrows, na_values, keep_default_na, na_filter, verbose, skip_blank_lines, parse_dates, infer_datetime_format, keep_date_col, date_parser, dayfirst, cache_dates, iterator, chunksize, compression, thousands, decimal, lineterminator, quotechar, quoting, doublequote, escapechar, comment, encoding, dialect, error_bad_lines, warn_bad_lines, delim_whitespace, low_memory, memory_map, float_precision, storage_options)\u001b[0m\n\u001b[0;32m    608\u001b[0m     \u001b[0mkwds\u001b[0m\u001b[1;33m.\u001b[0m\u001b[0mupdate\u001b[0m\u001b[1;33m(\u001b[0m\u001b[0mkwds_defaults\u001b[0m\u001b[1;33m)\u001b[0m\u001b[1;33m\u001b[0m\u001b[1;33m\u001b[0m\u001b[0m\n\u001b[0;32m    609\u001b[0m \u001b[1;33m\u001b[0m\u001b[0m\n\u001b[1;32m--> 610\u001b[1;33m     \u001b[1;32mreturn\u001b[0m \u001b[0m_read\u001b[0m\u001b[1;33m(\u001b[0m\u001b[0mfilepath_or_buffer\u001b[0m\u001b[1;33m,\u001b[0m \u001b[0mkwds\u001b[0m\u001b[1;33m)\u001b[0m\u001b[1;33m\u001b[0m\u001b[1;33m\u001b[0m\u001b[0m\n\u001b[0m\u001b[0;32m    611\u001b[0m \u001b[1;33m\u001b[0m\u001b[0m\n\u001b[0;32m    612\u001b[0m \u001b[1;33m\u001b[0m\u001b[0m\n",
      "\u001b[1;32m~\\anaconda3\\lib\\site-packages\\pandas\\io\\parsers.py\u001b[0m in \u001b[0;36m_read\u001b[1;34m(filepath_or_buffer, kwds)\u001b[0m\n\u001b[0;32m    466\u001b[0m \u001b[1;33m\u001b[0m\u001b[0m\n\u001b[0;32m    467\u001b[0m     \u001b[1;32mwith\u001b[0m \u001b[0mparser\u001b[0m\u001b[1;33m:\u001b[0m\u001b[1;33m\u001b[0m\u001b[1;33m\u001b[0m\u001b[0m\n\u001b[1;32m--> 468\u001b[1;33m         \u001b[1;32mreturn\u001b[0m \u001b[0mparser\u001b[0m\u001b[1;33m.\u001b[0m\u001b[0mread\u001b[0m\u001b[1;33m(\u001b[0m\u001b[0mnrows\u001b[0m\u001b[1;33m)\u001b[0m\u001b[1;33m\u001b[0m\u001b[1;33m\u001b[0m\u001b[0m\n\u001b[0m\u001b[0;32m    469\u001b[0m \u001b[1;33m\u001b[0m\u001b[0m\n\u001b[0;32m    470\u001b[0m \u001b[1;33m\u001b[0m\u001b[0m\n",
      "\u001b[1;32m~\\anaconda3\\lib\\site-packages\\pandas\\io\\parsers.py\u001b[0m in \u001b[0;36mread\u001b[1;34m(self, nrows)\u001b[0m\n\u001b[0;32m   1055\u001b[0m     \u001b[1;32mdef\u001b[0m \u001b[0mread\u001b[0m\u001b[1;33m(\u001b[0m\u001b[0mself\u001b[0m\u001b[1;33m,\u001b[0m \u001b[0mnrows\u001b[0m\u001b[1;33m=\u001b[0m\u001b[1;32mNone\u001b[0m\u001b[1;33m)\u001b[0m\u001b[1;33m:\u001b[0m\u001b[1;33m\u001b[0m\u001b[1;33m\u001b[0m\u001b[0m\n\u001b[0;32m   1056\u001b[0m         \u001b[0mnrows\u001b[0m \u001b[1;33m=\u001b[0m \u001b[0mvalidate_integer\u001b[0m\u001b[1;33m(\u001b[0m\u001b[1;34m\"nrows\"\u001b[0m\u001b[1;33m,\u001b[0m \u001b[0mnrows\u001b[0m\u001b[1;33m)\u001b[0m\u001b[1;33m\u001b[0m\u001b[1;33m\u001b[0m\u001b[0m\n\u001b[1;32m-> 1057\u001b[1;33m         \u001b[0mindex\u001b[0m\u001b[1;33m,\u001b[0m \u001b[0mcolumns\u001b[0m\u001b[1;33m,\u001b[0m \u001b[0mcol_dict\u001b[0m \u001b[1;33m=\u001b[0m \u001b[0mself\u001b[0m\u001b[1;33m.\u001b[0m\u001b[0m_engine\u001b[0m\u001b[1;33m.\u001b[0m\u001b[0mread\u001b[0m\u001b[1;33m(\u001b[0m\u001b[0mnrows\u001b[0m\u001b[1;33m)\u001b[0m\u001b[1;33m\u001b[0m\u001b[1;33m\u001b[0m\u001b[0m\n\u001b[0m\u001b[0;32m   1058\u001b[0m \u001b[1;33m\u001b[0m\u001b[0m\n\u001b[0;32m   1059\u001b[0m         \u001b[1;32mif\u001b[0m \u001b[0mindex\u001b[0m \u001b[1;32mis\u001b[0m \u001b[1;32mNone\u001b[0m\u001b[1;33m:\u001b[0m\u001b[1;33m\u001b[0m\u001b[1;33m\u001b[0m\u001b[0m\n",
      "\u001b[1;32m~\\anaconda3\\lib\\site-packages\\pandas\\io\\parsers.py\u001b[0m in \u001b[0;36mread\u001b[1;34m(self, nrows)\u001b[0m\n\u001b[0;32m   2059\u001b[0m     \u001b[1;32mdef\u001b[0m \u001b[0mread\u001b[0m\u001b[1;33m(\u001b[0m\u001b[0mself\u001b[0m\u001b[1;33m,\u001b[0m \u001b[0mnrows\u001b[0m\u001b[1;33m=\u001b[0m\u001b[1;32mNone\u001b[0m\u001b[1;33m)\u001b[0m\u001b[1;33m:\u001b[0m\u001b[1;33m\u001b[0m\u001b[1;33m\u001b[0m\u001b[0m\n\u001b[0;32m   2060\u001b[0m         \u001b[1;32mtry\u001b[0m\u001b[1;33m:\u001b[0m\u001b[1;33m\u001b[0m\u001b[1;33m\u001b[0m\u001b[0m\n\u001b[1;32m-> 2061\u001b[1;33m             \u001b[0mdata\u001b[0m \u001b[1;33m=\u001b[0m \u001b[0mself\u001b[0m\u001b[1;33m.\u001b[0m\u001b[0m_reader\u001b[0m\u001b[1;33m.\u001b[0m\u001b[0mread\u001b[0m\u001b[1;33m(\u001b[0m\u001b[0mnrows\u001b[0m\u001b[1;33m)\u001b[0m\u001b[1;33m\u001b[0m\u001b[1;33m\u001b[0m\u001b[0m\n\u001b[0m\u001b[0;32m   2062\u001b[0m         \u001b[1;32mexcept\u001b[0m \u001b[0mStopIteration\u001b[0m\u001b[1;33m:\u001b[0m\u001b[1;33m\u001b[0m\u001b[1;33m\u001b[0m\u001b[0m\n\u001b[0;32m   2063\u001b[0m             \u001b[1;32mif\u001b[0m \u001b[0mself\u001b[0m\u001b[1;33m.\u001b[0m\u001b[0m_first_chunk\u001b[0m\u001b[1;33m:\u001b[0m\u001b[1;33m\u001b[0m\u001b[1;33m\u001b[0m\u001b[0m\n",
      "\u001b[1;32mpandas\\_libs\\parsers.pyx\u001b[0m in \u001b[0;36mpandas._libs.parsers.TextReader.read\u001b[1;34m()\u001b[0m\n",
      "\u001b[1;32mpandas\\_libs\\parsers.pyx\u001b[0m in \u001b[0;36mpandas._libs.parsers.TextReader._read_low_memory\u001b[1;34m()\u001b[0m\n",
      "\u001b[1;32mpandas\\_libs\\parsers.pyx\u001b[0m in \u001b[0;36mpandas._libs.parsers.TextReader._read_rows\u001b[1;34m()\u001b[0m\n",
      "\u001b[1;32mpandas\\_libs\\parsers.pyx\u001b[0m in \u001b[0;36mpandas._libs.parsers.TextReader._convert_column_data\u001b[1;34m()\u001b[0m\n",
      "\u001b[1;32m~\\anaconda3\\lib\\site-packages\\pandas\\core\\dtypes\\common.py\u001b[0m in \u001b[0;36mis_extension_array_dtype\u001b[1;34m(arr_or_dtype)\u001b[0m\n\u001b[0;32m   1513\u001b[0m     \u001b[1;32mFalse\u001b[0m\u001b[1;33m\u001b[0m\u001b[1;33m\u001b[0m\u001b[0m\n\u001b[0;32m   1514\u001b[0m     \"\"\"\n\u001b[1;32m-> 1515\u001b[1;33m     \u001b[0mdtype\u001b[0m \u001b[1;33m=\u001b[0m \u001b[0mgetattr\u001b[0m\u001b[1;33m(\u001b[0m\u001b[0marr_or_dtype\u001b[0m\u001b[1;33m,\u001b[0m \u001b[1;34m\"dtype\"\u001b[0m\u001b[1;33m,\u001b[0m \u001b[0marr_or_dtype\u001b[0m\u001b[1;33m)\u001b[0m\u001b[1;33m\u001b[0m\u001b[1;33m\u001b[0m\u001b[0m\n\u001b[0m\u001b[0;32m   1516\u001b[0m     \u001b[1;32mreturn\u001b[0m \u001b[0misinstance\u001b[0m\u001b[1;33m(\u001b[0m\u001b[0mdtype\u001b[0m\u001b[1;33m,\u001b[0m \u001b[0mExtensionDtype\u001b[0m\u001b[1;33m)\u001b[0m \u001b[1;32mor\u001b[0m \u001b[0mregistry\u001b[0m\u001b[1;33m.\u001b[0m\u001b[0mfind\u001b[0m\u001b[1;33m(\u001b[0m\u001b[0mdtype\u001b[0m\u001b[1;33m)\u001b[0m \u001b[1;32mis\u001b[0m \u001b[1;32mnot\u001b[0m \u001b[1;32mNone\u001b[0m\u001b[1;33m\u001b[0m\u001b[1;33m\u001b[0m\u001b[0m\n\u001b[0;32m   1517\u001b[0m \u001b[1;33m\u001b[0m\u001b[0m\n",
      "\u001b[1;31mKeyboardInterrupt\u001b[0m: "
     ]
    }
   ],
   "source": [
    "data_reviews= pd.read_csv('C:\\\\Users\\\\Usuario\\\\source\\\\repos\\\\data_reviews.csv')\n",
    "\n"
   ]
  },
  {
   "cell_type": "code",
   "execution_count": null,
   "metadata": {},
   "outputs": [],
   "source": [
    "data_reviews.drop('Unnamed: 0', axis=1,inplace=True)"
   ]
  },
  {
   "cell_type": "code",
   "execution_count": 5,
   "metadata": {},
   "outputs": [],
   "source": [
    "data_games = pd.DataFrame(data_games)"
   ]
  },
  {
   "cell_type": "markdown",
   "metadata": {},
   "source": [
    "### DESCRIPCIÓN DE FEATURES DATA_REVIEWS"
   ]
  },
  {
   "cell_type": "markdown",
   "metadata": {},
   "source": [
    "**username:** Nombre del usuario que ha dejado la reseña\n",
    "\n",
    "**hours:** Cantidad de horas jugadas (acumuladas) en el juego al cual se le ha hecho la reseña\n",
    "\n",
    "**products:** Cantidad de otros juegos probados\n",
    "\n",
    "**product_id:** Identificacion númerica del juego reseñado\n",
    "\n",
    "**page_order:** Número de página en el cual se encuentra el juego dentro de la plataforma\n",
    "\n",
    "**date:** Fecha en la cual se ha creado la reseña\n",
    "\n",
    "**text:** Comentario sobre el juego\n",
    "\n",
    "**early_access:** Si es True significa que el juego puede ser adquirido durante su etapa de desarrollo\n",
    "\n",
    "**page:** No es interpretable\n",
    "\n",
    "**user_id:** Identificacion númerica del usuario creador de la reseña\n",
    "\n",
    "**found_funny:** Cantidad de calificaciones positivas creadas por otros usuarios\n",
    "\n",
    "**compensation:** Variable no interpretable dada la cantidad de valores nulos contenidos en ella\n"
   ]
  },
  {
   "cell_type": "code",
   "execution_count": null,
   "metadata": {
    "scrolled": true
   },
   "outputs": [],
   "source": []
  },
  {
   "cell_type": "markdown",
   "metadata": {},
   "source": [
    "### DESCRIPCIÓN DE FEATURES INCLUIDOS EN DATA_GAMES"
   ]
  },
  {
   "cell_type": "markdown",
   "metadata": {},
   "source": [
    "**desarrollador:** Creador del juego\n",
    "\n",
    "**genres:** Géneros, caracteristicas del juego\n",
    "\n",
    "**app_name:** Editor del juego\n",
    "\n",
    "**title:** Nombre del juego\n",
    "\n",
    "**url:** Dirección web donde encontrarlo\n",
    "\n",
    "**release_date:** Fecha de lanzamiento\n",
    "\n",
    "**tags:** Etiquetas relacionadas con el juego\n",
    "\n",
    "**discount_price:** Precio con descuento incluido\n",
    "\n",
    "**reviews_url:** Dirección web donde encontrar las reseñas sobre el juego\n",
    "\n",
    "**specs:** Especificaciones\n",
    "\n",
    "**price:** Precio sin descuento\n",
    "\n",
    "**early_access:** Si es True significa que el juego puede ser adquirido durante su etapa de desarrollo\n",
    "\n",
    "**id:** Identificacion númerica del juego publicado\n",
    "\n",
    "**sentiment:** Emoción promedio generada en los usuarios\n",
    "\n",
    "**metascore:** Puntaje promedio recibido por los usuarios\n"
   ]
  },
  {
   "cell_type": "markdown",
   "metadata": {},
   "source": [
    "### ANALISIS EXPLORATORIO DATA_REVIEWS"
   ]
  },
  {
   "cell_type": "code",
   "execution_count": null,
   "metadata": {},
   "outputs": [],
   "source": [
    "data_reviews.head()"
   ]
  },
  {
   "cell_type": "markdown",
   "metadata": {},
   "source": [
    "Cantidad de filas y columnas"
   ]
  },
  {
   "cell_type": "code",
   "execution_count": null,
   "metadata": {},
   "outputs": [],
   "source": [
    "data_reviews.shape"
   ]
  },
  {
   "cell_type": "markdown",
   "metadata": {},
   "source": [
    "Información del tipo de dato contenido en cada feature"
   ]
  },
  {
   "cell_type": "code",
   "execution_count": null,
   "metadata": {},
   "outputs": [],
   "source": [
    "data_reviews.info()"
   ]
  },
  {
   "cell_type": "markdown",
   "metadata": {},
   "source": [
    "Visualización de valores nulos contenidos en cada feature"
   ]
  },
  {
   "cell_type": "code",
   "execution_count": null,
   "metadata": {},
   "outputs": [],
   "source": [
    "data_reviews.isna().sum()"
   ]
  },
  {
   "cell_type": "markdown",
   "metadata": {},
   "source": [
    "Estadisticos de las variables númericas que contribuyen a definir la calificación del usuario"
   ]
  },
  {
   "cell_type": "code",
   "execution_count": null,
   "metadata": {},
   "outputs": [],
   "source": [
    "data_reviews.loc[:,['hours','products']].describe().round(2)"
   ]
  },
  {
   "cell_type": "markdown",
   "metadata": {},
   "source": [
    "De los estadisticos obtenidos podemos decir que la base de datos contiene valores que no deberían ser considerados dentro del análisis. Estos son los valores extremos como:\n",
    "\n",
    "*Usuarios que han probado el juego por menos de 10 horas acumuladas (no tienen el expertise necesario como para que su review sea considerada)\n",
    "\n",
    "*Usuarios que han probado menos de 20 juegos\n",
    "\n",
    "*Usuarios que han destinado mas de 100 horas a un juego\n",
    "\n",
    "*Usuarios que han probado mas de 300 juegos "
   ]
  },
  {
   "cell_type": "code",
   "execution_count": null,
   "metadata": {},
   "outputs": [],
   "source": [
    "data_reviews2=data_reviews[(data_reviews.products>20) & (data_reviews.products<300)]\n",
    "data_reviews2=data_reviews2[(data_reviews2.hours>10) & (data_reviews2.hours<100)]\n",
    "del data_reviews"
   ]
  },
  {
   "cell_type": "code",
   "execution_count": null,
   "metadata": {},
   "outputs": [],
   "source": [
    "data_reviews2.shape"
   ]
  },
  {
   "cell_type": "code",
   "execution_count": null,
   "metadata": {},
   "outputs": [],
   "source": [
    "data_reviews2.isna().sum()"
   ]
  },
  {
   "cell_type": "code",
   "execution_count": null,
   "metadata": {},
   "outputs": [],
   "source": [
    "indices_vacios=data_reviews2[data_reviews2.username.isna()].index\n",
    "indices_vacios"
   ]
  },
  {
   "cell_type": "code",
   "execution_count": null,
   "metadata": {},
   "outputs": [],
   "source": [
    "data_reviews2.drop(indices_vacios,inplace=True)"
   ]
  },
  {
   "cell_type": "markdown",
   "metadata": {},
   "source": [
    "Filtro el dataset quitando aquellos features que considero no van a ser útiles para el modelo"
   ]
  },
  {
   "cell_type": "code",
   "execution_count": null,
   "metadata": {},
   "outputs": [],
   "source": [
    "text_vacio=data_reviews2[data_reviews2.text.isna()].index"
   ]
  },
  {
   "cell_type": "code",
   "execution_count": null,
   "metadata": {},
   "outputs": [],
   "source": [
    "data_reviews2.drop(text_vacio,inplace=True)"
   ]
  },
  {
   "cell_type": "code",
   "execution_count": null,
   "metadata": {},
   "outputs": [],
   "source": [
    "data_reviews2.reset_index(drop=True,inplace=True)"
   ]
  },
  {
   "cell_type": "code",
   "execution_count": null,
   "metadata": {},
   "outputs": [],
   "source": [
    "data_reviews3=data_reviews2.loc[:,['username','hours','products','product_id','text']]\n",
    "data_reviews3.isna().sum()\n",
    "del data_reviews2"
   ]
  },
  {
   "cell_type": "markdown",
   "metadata": {},
   "source": [
    "Visualización de la distribución de la variable \"hours\""
   ]
  },
  {
   "cell_type": "code",
   "execution_count": null,
   "metadata": {},
   "outputs": [],
   "source": [
    "\n",
    "plt.figure(figsize=(20, 10))\n",
    "\n",
    "\n",
    "plt.subplot(3,1,1)\n",
    "sns.kdeplot(data=data_reviews3.hours)\n",
    "\n",
    "plt.subplot(3,1,2)\n",
    "sns.boxplot(data=data_reviews3.hours)"
   ]
  },
  {
   "cell_type": "markdown",
   "metadata": {},
   "source": [
    "Visualización de la distribución de la variable \"products\""
   ]
  },
  {
   "cell_type": "code",
   "execution_count": null,
   "metadata": {},
   "outputs": [],
   "source": [
    "plt.figure(figsize=(20, 10))\n",
    "\n",
    "plt.subplot(3,1,1)\n",
    "sns.kdeplot(data=data_reviews3.products)\n",
    "\n",
    "plt.subplot(3,1,2)\n",
    "sns.boxplot(data=data_reviews3.products)"
   ]
  },
  {
   "cell_type": "markdown",
   "metadata": {},
   "source": [
    "#### Algunas preguntas que respondemos "
   ]
  },
  {
   "cell_type": "markdown",
   "metadata": {},
   "source": [
    "1. Que cantidad de reviews deja en promedio cada usuario?"
   ]
  },
  {
   "cell_type": "code",
   "execution_count": null,
   "metadata": {},
   "outputs": [],
   "source": [
    "reviews_prom=data_reviews3.username.value_counts().mean()\n",
    "print(f'El promedio de reviews por usuario es:{reviews_prom}')"
   ]
  },
  {
   "cell_type": "markdown",
   "metadata": {},
   "source": [
    "2. Dentro de los limites establecidos, cual fue el usuario que mas reviews dejo y cual el que menos dejo?"
   ]
  },
  {
   "cell_type": "code",
   "execution_count": null,
   "metadata": {},
   "outputs": [],
   "source": [
    "print(f'El usuario que mas veces dejó un review fue:')\n",
    "pd.DataFrame(data_reviews3.username.value_counts()).iloc[0]"
   ]
  },
  {
   "cell_type": "code",
   "execution_count": null,
   "metadata": {},
   "outputs": [],
   "source": [
    "print(f'Lo usuarios que dejaron unicamente un review son:')\n",
    "min_rev=pd.DataFrame(data_reviews3.username.value_counts())==1\n",
    "df_min=pd.DataFrame(data_reviews3.username.value_counts())[min_rev]\n",
    "df_min.dropna()"
   ]
  },
  {
   "cell_type": "markdown",
   "metadata": {},
   "source": [
    "3. Cual es el juego que mas reviews tuvo? cual el que menos reviews tuvo?"
   ]
  },
  {
   "cell_type": "code",
   "execution_count": null,
   "metadata": {},
   "outputs": [],
   "source": [
    "pd.DataFrame(data_reviews3.product_id.value_counts()).iloc[0]\n"
   ]
  },
  {
   "cell_type": "code",
   "execution_count": null,
   "metadata": {},
   "outputs": [],
   "source": [
    "data_reviews3.product_id.value_counts()"
   ]
  },
  {
   "cell_type": "markdown",
   "metadata": {},
   "source": [
    "Fin del analisis exploratorio. A continuación determino por medio de TextBlob, la polaridad de un review analizando la variable Text. \n",
    "\n",
    "Polaridad es un número décimal que oscila entre -1 y 1, donde 1 significa que el comentario transmite un sentimiento positivo y, -1 un sentimiento negativo"
   ]
  },
  {
   "cell_type": "code",
   "execution_count": 100,
   "metadata": {},
   "outputs": [],
   "source": [
    "polarity_list=[]\n",
    "for i in range(len(data_reviews3.text)):\n",
    "    frase=TextBlob(data_reviews3.text[i])\n",
    "    polarity=frase.sentiment.polarity\n",
    "    polarity_list.append(polarity)"
   ]
  },
  {
   "cell_type": "code",
   "execution_count": 101,
   "metadata": {},
   "outputs": [],
   "source": [
    "data_reviews3['Polarity']=pd.Series(polarity_list)"
   ]
  },
  {
   "cell_type": "code",
   "execution_count": 102,
   "metadata": {},
   "outputs": [],
   "source": [
    "data_reviews3.to_csv('C:\\\\Users\\\\Usuario\\\\source\\\\repos\\\\data_reviews4.csv')\n",
    "del data_reviews3"
   ]
  },
  {
   "cell_type": "code",
   "execution_count": 50,
   "metadata": {},
   "outputs": [],
   "source": [
    "data_reviews4= pd.read_csv('C:\\\\Users\\\\Usuario\\\\source\\\\repos\\\\data_reviews4.csv')"
   ]
  },
  {
   "cell_type": "code",
   "execution_count": 51,
   "metadata": {},
   "outputs": [
    {
     "data": {
      "text/html": [
       "<div>\n",
       "<style scoped>\n",
       "    .dataframe tbody tr th:only-of-type {\n",
       "        vertical-align: middle;\n",
       "    }\n",
       "\n",
       "    .dataframe tbody tr th {\n",
       "        vertical-align: top;\n",
       "    }\n",
       "\n",
       "    .dataframe thead th {\n",
       "        text-align: right;\n",
       "    }\n",
       "</style>\n",
       "<table border=\"1\" class=\"dataframe\">\n",
       "  <thead>\n",
       "    <tr style=\"text-align: right;\">\n",
       "      <th></th>\n",
       "      <th>Unnamed: 0</th>\n",
       "      <th>username</th>\n",
       "      <th>hours</th>\n",
       "      <th>products</th>\n",
       "      <th>product_id</th>\n",
       "      <th>text</th>\n",
       "      <th>Polarity</th>\n",
       "    </tr>\n",
       "  </thead>\n",
       "  <tbody>\n",
       "    <tr>\n",
       "      <th>0</th>\n",
       "      <td>0</td>\n",
       "      <td>MR_SERENITY</td>\n",
       "      <td>14.8</td>\n",
       "      <td>147.0</td>\n",
       "      <td>35140</td>\n",
       "      <td>aweosme game great story and some epic moments...</td>\n",
       "      <td>0.375000</td>\n",
       "    </tr>\n",
       "    <tr>\n",
       "      <th>1</th>\n",
       "      <td>1</td>\n",
       "      <td>Duha Nubie</td>\n",
       "      <td>11.3</td>\n",
       "      <td>73.0</td>\n",
       "      <td>35140</td>\n",
       "      <td>first debut feel sweet</td>\n",
       "      <td>0.300000</td>\n",
       "    </tr>\n",
       "    <tr>\n",
       "      <th>2</th>\n",
       "      <td>2</td>\n",
       "      <td>The Undead StalkeR</td>\n",
       "      <td>17.0</td>\n",
       "      <td>87.0</td>\n",
       "      <td>35140</td>\n",
       "      <td>9/10\\nEven after all these years. this game re...</td>\n",
       "      <td>0.471429</td>\n",
       "    </tr>\n",
       "    <tr>\n",
       "      <th>3</th>\n",
       "      <td>3</td>\n",
       "      <td>Mono</td>\n",
       "      <td>14.1</td>\n",
       "      <td>54.0</td>\n",
       "      <td>506510</td>\n",
       "      <td>A Charming game with colourful pixel graphics ...</td>\n",
       "      <td>0.300000</td>\n",
       "    </tr>\n",
       "    <tr>\n",
       "      <th>4</th>\n",
       "      <td>4</td>\n",
       "      <td>Uncle-Noob</td>\n",
       "      <td>24.7</td>\n",
       "      <td>37.0</td>\n",
       "      <td>350280</td>\n",
       "      <td>I really like this game, but no one plays it. ...</td>\n",
       "      <td>-0.117532</td>\n",
       "    </tr>\n",
       "  </tbody>\n",
       "</table>\n",
       "</div>"
      ],
      "text/plain": [
       "   Unnamed: 0            username  hours  products  product_id  \\\n",
       "0           0         MR_SERENITY   14.8     147.0       35140   \n",
       "1           1          Duha Nubie   11.3      73.0       35140   \n",
       "2           2  The Undead StalkeR   17.0      87.0       35140   \n",
       "3           3                Mono   14.1      54.0      506510   \n",
       "4           4          Uncle-Noob   24.7      37.0      350280   \n",
       "\n",
       "                                                text  Polarity  \n",
       "0  aweosme game great story and some epic moments...  0.375000  \n",
       "1                             first debut feel sweet  0.300000  \n",
       "2  9/10\\nEven after all these years. this game re...  0.471429  \n",
       "3  A Charming game with colourful pixel graphics ...  0.300000  \n",
       "4  I really like this game, but no one plays it. ... -0.117532  "
      ]
     },
     "execution_count": 51,
     "metadata": {},
     "output_type": "execute_result"
    }
   ],
   "source": [
    "data_reviews4.head()"
   ]
  },
  {
   "cell_type": "code",
   "execution_count": 52,
   "metadata": {},
   "outputs": [],
   "source": [
    "data_reviews4.drop(['Unnamed: 0'], axis=1,inplace=True)"
   ]
  },
  {
   "cell_type": "code",
   "execution_count": 53,
   "metadata": {},
   "outputs": [],
   "source": [
    "correlacion=data_reviews4.loc[:,['hours','products','Polarity']].corr()"
   ]
  },
  {
   "cell_type": "code",
   "execution_count": 54,
   "metadata": {},
   "outputs": [
    {
     "data": {
      "text/plain": [
       "<matplotlib.axes._subplots.AxesSubplot at 0x1c94193a250>"
      ]
     },
     "execution_count": 54,
     "metadata": {},
     "output_type": "execute_result"
    },
    {
     "data": {
      "image/png": "[encoded data removed]",
      "text/plain": [
       "<Figure size 432x288 with 2 Axes>"
      ]
     },
     "metadata": {},
     "output_type": "display_data"
    }
   ],
   "source": [
    "sns.heatmap(correlacion, cbar = True,annot = True)"
   ]
  },
  {
   "cell_type": "markdown",
   "metadata": {},
   "source": [
    "Del mapa de calor se concluye que no existe ninguna relación directa entre un comentario positivo dejado por el usuario a un juego y la cantidad de horas jugadas, ni otros juegos probados. Esto nos permite afirmar que la relación es bivariable y por ende,no apreciable en el heatmap.\n",
    "\n",
    "Con el fin de reafirmar lo concluido aquí, a continuación exponemos estadisticos y filtramos polaridad según dos criterios al mismo tiempo: horas y cantidad de juegos probados."
   ]
  },
  {
   "cell_type": "code",
   "execution_count": 55,
   "metadata": {},
   "outputs": [
    {
     "data": {
      "text/html": [
       "<div>\n",
       "<style scoped>\n",
       "    .dataframe tbody tr th:only-of-type {\n",
       "        vertical-align: middle;\n",
       "    }\n",
       "\n",
       "    .dataframe tbody tr th {\n",
       "        vertical-align: top;\n",
       "    }\n",
       "\n",
       "    .dataframe thead th {\n",
       "        text-align: right;\n",
       "    }\n",
       "</style>\n",
       "<table border=\"1\" class=\"dataframe\">\n",
       "  <thead>\n",
       "    <tr style=\"text-align: right;\">\n",
       "      <th></th>\n",
       "      <th>hours</th>\n",
       "      <th>products</th>\n",
       "      <th>Polarity</th>\n",
       "    </tr>\n",
       "  </thead>\n",
       "  <tbody>\n",
       "    <tr>\n",
       "      <th>count</th>\n",
       "      <td>2227331.00</td>\n",
       "      <td>2227331.00</td>\n",
       "      <td>2227331.00</td>\n",
       "    </tr>\n",
       "    <tr>\n",
       "      <th>mean</th>\n",
       "      <td>35.44</td>\n",
       "      <td>116.35</td>\n",
       "      <td>0.12</td>\n",
       "    </tr>\n",
       "    <tr>\n",
       "      <th>std</th>\n",
       "      <td>23.24</td>\n",
       "      <td>73.22</td>\n",
       "      <td>0.27</td>\n",
       "    </tr>\n",
       "    <tr>\n",
       "      <th>min</th>\n",
       "      <td>10.10</td>\n",
       "      <td>21.00</td>\n",
       "      <td>-1.00</td>\n",
       "    </tr>\n",
       "    <tr>\n",
       "      <th>25%</th>\n",
       "      <td>16.60</td>\n",
       "      <td>55.00</td>\n",
       "      <td>0.00</td>\n",
       "    </tr>\n",
       "    <tr>\n",
       "      <th>50%</th>\n",
       "      <td>27.60</td>\n",
       "      <td>99.00</td>\n",
       "      <td>0.10</td>\n",
       "    </tr>\n",
       "    <tr>\n",
       "      <th>75%</th>\n",
       "      <td>48.90</td>\n",
       "      <td>166.00</td>\n",
       "      <td>0.25</td>\n",
       "    </tr>\n",
       "    <tr>\n",
       "      <th>max</th>\n",
       "      <td>99.90</td>\n",
       "      <td>299.00</td>\n",
       "      <td>1.00</td>\n",
       "    </tr>\n",
       "  </tbody>\n",
       "</table>\n",
       "</div>"
      ],
      "text/plain": [
       "            hours    products    Polarity\n",
       "count  2227331.00  2227331.00  2227331.00\n",
       "mean        35.44      116.35        0.12\n",
       "std         23.24       73.22        0.27\n",
       "min         10.10       21.00       -1.00\n",
       "25%         16.60       55.00        0.00\n",
       "50%         27.60       99.00        0.10\n",
       "75%         48.90      166.00        0.25\n",
       "max         99.90      299.00        1.00"
      ]
     },
     "execution_count": 55,
     "metadata": {},
     "output_type": "execute_result"
    }
   ],
   "source": [
    "data_reviews4.loc[:,['hours','products','Polarity']].describe().round(2)"
   ]
  },
  {
   "cell_type": "markdown",
   "metadata": {},
   "source": [
    "Criterio determinacion de Score: **Si la cantidad de productos está dentro de los valores del primer cuartil y la cantidad de horas jugadas es mayor al 75% de los valores de la muestra---> Calificación positiva (corroborado con el indice de polaridad)\n",
    "\n",
    "**Si la cantidad de productos es mayor al 75% de los valores contenidos en la muestra y la cantidad de horas jugadas está dentro del primer 25% de los valores---> Calificación negativa (corroborado con el índice de polaridad)\n",
    "\n"
   ]
  },
  {
   "cell_type": "code",
   "execution_count": 56,
   "metadata": {},
   "outputs": [],
   "source": [
    "positive_mask= (data_reviews4.hours>48) & (data_reviews4.products<55)"
   ]
  },
  {
   "cell_type": "code",
   "execution_count": 57,
   "metadata": {},
   "outputs": [
    {
     "data": {
      "text/plain": [
       "0.13175401820734617"
      ]
     },
     "execution_count": 57,
     "metadata": {},
     "output_type": "execute_result"
    }
   ],
   "source": [
    "data_reviews4[positive_mask].Polarity.mean()"
   ]
  },
  {
   "cell_type": "markdown",
   "metadata": {},
   "source": [
    "El resultado obtenido es considerado suficiente para determinar como minimo de polaridad con la que un usuario calificaría como positivo al juego ya que, 0.13 es mayor al promedio de polaridad y, dado que la polaridad es un número que oscila entre -1 y 1 siendo -1 negativo y 1 positvo, el valor obtenido se encuentra mas cercano al extremo positivo que al extremo negativo"
   ]
  },
  {
   "cell_type": "code",
   "execution_count": 58,
   "metadata": {},
   "outputs": [],
   "source": [
    "negative_mask=(data_reviews4.hours<16) & (data_reviews4.products>166)"
   ]
  },
  {
   "cell_type": "code",
   "execution_count": 59,
   "metadata": {},
   "outputs": [
    {
     "data": {
      "text/plain": [
       "0.11806886378669548"
      ]
     },
     "execution_count": 59,
     "metadata": {},
     "output_type": "execute_result"
    }
   ],
   "source": [
    "data_reviews4[negative_mask].Polarity.mean()"
   ]
  },
  {
   "cell_type": "code",
   "execution_count": 60,
   "metadata": {},
   "outputs": [],
   "source": [
    "undefined_mask=(data_reviews4.Polarity<0.13117870234093953) & (data_reviews4.Polarity>0.0567740481140225)"
   ]
  },
  {
   "cell_type": "code",
   "execution_count": 61,
   "metadata": {},
   "outputs": [
    {
     "data": {
      "text/html": [
       "<div>\n",
       "<style scoped>\n",
       "    .dataframe tbody tr th:only-of-type {\n",
       "        vertical-align: middle;\n",
       "    }\n",
       "\n",
       "    .dataframe tbody tr th {\n",
       "        vertical-align: top;\n",
       "    }\n",
       "\n",
       "    .dataframe thead th {\n",
       "        text-align: right;\n",
       "    }\n",
       "</style>\n",
       "<table border=\"1\" class=\"dataframe\">\n",
       "  <thead>\n",
       "    <tr style=\"text-align: right;\">\n",
       "      <th></th>\n",
       "      <th>username</th>\n",
       "      <th>hours</th>\n",
       "      <th>products</th>\n",
       "      <th>product_id</th>\n",
       "      <th>text</th>\n",
       "      <th>Polarity</th>\n",
       "    </tr>\n",
       "  </thead>\n",
       "  <tbody>\n",
       "    <tr>\n",
       "      <th>58</th>\n",
       "      <td>Mky</td>\n",
       "      <td>64.4</td>\n",
       "      <td>45.0</td>\n",
       "      <td>1840</td>\n",
       "      <td>It's a lot of fun if you know what you're doin...</td>\n",
       "      <td>0.521429</td>\n",
       "    </tr>\n",
       "    <tr>\n",
       "      <th>64</th>\n",
       "      <td>Kachigga</td>\n",
       "      <td>69.9</td>\n",
       "      <td>23.0</td>\n",
       "      <td>1840</td>\n",
       "      <td>Quite difficult to learn to use but after a co...</td>\n",
       "      <td>0.315556</td>\n",
       "    </tr>\n",
       "    <tr>\n",
       "      <th>79</th>\n",
       "      <td>SwaggerBallz</td>\n",
       "      <td>55.2</td>\n",
       "      <td>31.0</td>\n",
       "      <td>8880</td>\n",
       "      <td>I wish Steam would patch this game. I always e...</td>\n",
       "      <td>0.026667</td>\n",
       "    </tr>\n",
       "    <tr>\n",
       "      <th>93</th>\n",
       "      <td>Bricks04</td>\n",
       "      <td>73.9</td>\n",
       "      <td>32.0</td>\n",
       "      <td>1840</td>\n",
       "      <td>Great tool, renders are crisp and resemble the...</td>\n",
       "      <td>0.224000</td>\n",
       "    </tr>\n",
       "    <tr>\n",
       "      <th>100</th>\n",
       "      <td>DatGuyT_T</td>\n",
       "      <td>94.5</td>\n",
       "      <td>46.0</td>\n",
       "      <td>1840</td>\n",
       "      <td>Very good best of all its free but REALLY need...</td>\n",
       "      <td>0.627500</td>\n",
       "    </tr>\n",
       "    <tr>\n",
       "      <th>...</th>\n",
       "      <td>...</td>\n",
       "      <td>...</td>\n",
       "      <td>...</td>\n",
       "      <td>...</td>\n",
       "      <td>...</td>\n",
       "      <td>...</td>\n",
       "    </tr>\n",
       "    <tr>\n",
       "      <th>2227165</th>\n",
       "      <td>Pobot</td>\n",
       "      <td>48.9</td>\n",
       "      <td>21.0</td>\n",
       "      <td>252490</td>\n",
       "      <td>this game is soo good.</td>\n",
       "      <td>0.150000</td>\n",
       "    </tr>\n",
       "    <tr>\n",
       "      <th>2227188</th>\n",
       "      <td>Cloud</td>\n",
       "      <td>65.2</td>\n",
       "      <td>50.0</td>\n",
       "      <td>252490</td>\n",
       "      <td>EPIC !</td>\n",
       "      <td>0.125000</td>\n",
       "    </tr>\n",
       "    <tr>\n",
       "      <th>2227218</th>\n",
       "      <td>Haetcher upgrader.gg</td>\n",
       "      <td>93.8</td>\n",
       "      <td>51.0</td>\n",
       "      <td>252490</td>\n",
       "      <td>The game is cool only it laagt extremely chopp...</td>\n",
       "      <td>-0.062500</td>\n",
       "    </tr>\n",
       "    <tr>\n",
       "      <th>2227253</th>\n",
       "      <td>]TDF[Gomer</td>\n",
       "      <td>91.4</td>\n",
       "      <td>43.0</td>\n",
       "      <td>252490</td>\n",
       "      <td>In the day and age were Dayz/Minecraft clones ...</td>\n",
       "      <td>0.071429</td>\n",
       "    </tr>\n",
       "    <tr>\n",
       "      <th>2227327</th>\n",
       "      <td>Rick Sanchez C-132</td>\n",
       "      <td>63.0</td>\n",
       "      <td>37.0</td>\n",
       "      <td>252490</td>\n",
       "      <td>This game is already one of the most fun and i...</td>\n",
       "      <td>0.108571</td>\n",
       "    </tr>\n",
       "  </tbody>\n",
       "</table>\n",
       "<p>149799 rows × 6 columns</p>\n",
       "</div>"
      ],
      "text/plain": [
       "                     username  hours  products  product_id  \\\n",
       "58                        Mky   64.4      45.0        1840   \n",
       "64                   Kachigga   69.9      23.0        1840   \n",
       "79               SwaggerBallz   55.2      31.0        8880   \n",
       "93                   Bricks04   73.9      32.0        1840   \n",
       "100                 DatGuyT_T   94.5      46.0        1840   \n",
       "...                       ...    ...       ...         ...   \n",
       "2227165                 Pobot   48.9      21.0      252490   \n",
       "2227188                 Cloud   65.2      50.0      252490   \n",
       "2227218  Haetcher upgrader.gg   93.8      51.0      252490   \n",
       "2227253            ]TDF[Gomer   91.4      43.0      252490   \n",
       "2227327    Rick Sanchez C-132   63.0      37.0      252490   \n",
       "\n",
       "                                                      text  Polarity  \n",
       "58       It's a lot of fun if you know what you're doin...  0.521429  \n",
       "64       Quite difficult to learn to use but after a co...  0.315556  \n",
       "79       I wish Steam would patch this game. I always e...  0.026667  \n",
       "93       Great tool, renders are crisp and resemble the...  0.224000  \n",
       "100      Very good best of all its free but REALLY need...  0.627500  \n",
       "...                                                    ...       ...  \n",
       "2227165                             this game is soo good.  0.150000  \n",
       "2227188                                             EPIC !  0.125000  \n",
       "2227218  The game is cool only it laagt extremely chopp... -0.062500  \n",
       "2227253  In the day and age were Dayz/Minecraft clones ...  0.071429  \n",
       "2227327  This game is already one of the most fun and i...  0.108571  \n",
       "\n",
       "[149799 rows x 6 columns]"
      ]
     },
     "execution_count": 61,
     "metadata": {},
     "output_type": "execute_result"
    }
   ],
   "source": [
    "data_reviews4[positive_mask]"
   ]
  },
  {
   "cell_type": "code",
   "execution_count": 62,
   "metadata": {},
   "outputs": [
    {
     "name": "stdout",
     "output_type": "stream",
     "text": [
      "El 6.72549342688626% de las reviews son positivas\n"
     ]
    }
   ],
   "source": [
    "calif_pos=data_reviews4[positive_mask].shape[0]/data_reviews4.shape[0]\n",
    "print(f'El {calif_pos*100}% de las reviews son positivas')"
   ]
  },
  {
   "cell_type": "code",
   "execution_count": 63,
   "metadata": {},
   "outputs": [],
   "source": [
    "def conditions(data):\n",
    "    if (data['Polarity'] > 0.13175401820734617):\n",
    "        return 3\n",
    "    elif (data['Polarity'] < 0.11806886378669548):\n",
    "        return 1\n",
    "    else:\n",
    "        return 2"
   ]
  },
  {
   "cell_type": "code",
   "execution_count": 64,
   "metadata": {},
   "outputs": [],
   "source": [
    "data_reviews4['Calif'] = data_reviews4.apply(conditions, axis=1)"
   ]
  },
  {
   "cell_type": "code",
   "execution_count": 65,
   "metadata": {},
   "outputs": [
    {
     "data": {
      "text/html": [
       "<div>\n",
       "<style scoped>\n",
       "    .dataframe tbody tr th:only-of-type {\n",
       "        vertical-align: middle;\n",
       "    }\n",
       "\n",
       "    .dataframe tbody tr th {\n",
       "        vertical-align: top;\n",
       "    }\n",
       "\n",
       "    .dataframe thead th {\n",
       "        text-align: right;\n",
       "    }\n",
       "</style>\n",
       "<table border=\"1\" class=\"dataframe\">\n",
       "  <thead>\n",
       "    <tr style=\"text-align: right;\">\n",
       "      <th></th>\n",
       "      <th>username</th>\n",
       "      <th>hours</th>\n",
       "      <th>products</th>\n",
       "      <th>product_id</th>\n",
       "      <th>text</th>\n",
       "      <th>Polarity</th>\n",
       "      <th>Calif</th>\n",
       "    </tr>\n",
       "  </thead>\n",
       "  <tbody>\n",
       "    <tr>\n",
       "      <th>0</th>\n",
       "      <td>MR_SERENITY</td>\n",
       "      <td>14.8</td>\n",
       "      <td>147.0</td>\n",
       "      <td>35140</td>\n",
       "      <td>aweosme game great story and some epic moments...</td>\n",
       "      <td>0.375000</td>\n",
       "      <td>3</td>\n",
       "    </tr>\n",
       "    <tr>\n",
       "      <th>1</th>\n",
       "      <td>Duha Nubie</td>\n",
       "      <td>11.3</td>\n",
       "      <td>73.0</td>\n",
       "      <td>35140</td>\n",
       "      <td>first debut feel sweet</td>\n",
       "      <td>0.300000</td>\n",
       "      <td>3</td>\n",
       "    </tr>\n",
       "    <tr>\n",
       "      <th>2</th>\n",
       "      <td>The Undead StalkeR</td>\n",
       "      <td>17.0</td>\n",
       "      <td>87.0</td>\n",
       "      <td>35140</td>\n",
       "      <td>9/10\\nEven after all these years. this game re...</td>\n",
       "      <td>0.471429</td>\n",
       "      <td>3</td>\n",
       "    </tr>\n",
       "    <tr>\n",
       "      <th>3</th>\n",
       "      <td>Mono</td>\n",
       "      <td>14.1</td>\n",
       "      <td>54.0</td>\n",
       "      <td>506510</td>\n",
       "      <td>A Charming game with colourful pixel graphics ...</td>\n",
       "      <td>0.300000</td>\n",
       "      <td>3</td>\n",
       "    </tr>\n",
       "    <tr>\n",
       "      <th>4</th>\n",
       "      <td>Uncle-Noob</td>\n",
       "      <td>24.7</td>\n",
       "      <td>37.0</td>\n",
       "      <td>350280</td>\n",
       "      <td>I really like this game, but no one plays it. ...</td>\n",
       "      <td>-0.117532</td>\n",
       "      <td>1</td>\n",
       "    </tr>\n",
       "  </tbody>\n",
       "</table>\n",
       "</div>"
      ],
      "text/plain": [
       "             username  hours  products  product_id  \\\n",
       "0         MR_SERENITY   14.8     147.0       35140   \n",
       "1          Duha Nubie   11.3      73.0       35140   \n",
       "2  The Undead StalkeR   17.0      87.0       35140   \n",
       "3                Mono   14.1      54.0      506510   \n",
       "4          Uncle-Noob   24.7      37.0      350280   \n",
       "\n",
       "                                                text  Polarity  Calif  \n",
       "0  aweosme game great story and some epic moments...  0.375000      3  \n",
       "1                             first debut feel sweet  0.300000      3  \n",
       "2  9/10\\nEven after all these years. this game re...  0.471429      3  \n",
       "3  A Charming game with colourful pixel graphics ...  0.300000      3  \n",
       "4  I really like this game, but no one plays it. ... -0.117532      1  "
      ]
     },
     "execution_count": 65,
     "metadata": {},
     "output_type": "execute_result"
    }
   ],
   "source": [
    "data_reviews4.head()"
   ]
  },
  {
   "cell_type": "markdown",
   "metadata": {},
   "source": [
    "### ANALISIS EXPLORATORIO DATA_GAMES"
   ]
  },
  {
   "cell_type": "code",
   "execution_count": 6,
   "metadata": {},
   "outputs": [
    {
     "data": {
      "text/html": [
       "<div>\n",
       "<style scoped>\n",
       "    .dataframe tbody tr th:only-of-type {\n",
       "        vertical-align: middle;\n",
       "    }\n",
       "\n",
       "    .dataframe tbody tr th {\n",
       "        vertical-align: top;\n",
       "    }\n",
       "\n",
       "    .dataframe thead th {\n",
       "        text-align: right;\n",
       "    }\n",
       "</style>\n",
       "<table border=\"1\" class=\"dataframe\">\n",
       "  <thead>\n",
       "    <tr style=\"text-align: right;\">\n",
       "      <th></th>\n",
       "      <th>publisher</th>\n",
       "      <th>genres</th>\n",
       "      <th>app_name</th>\n",
       "      <th>title</th>\n",
       "      <th>url</th>\n",
       "      <th>release_date</th>\n",
       "      <th>tags</th>\n",
       "      <th>discount_price</th>\n",
       "      <th>reviews_url</th>\n",
       "      <th>specs</th>\n",
       "      <th>price</th>\n",
       "      <th>early_access</th>\n",
       "      <th>id</th>\n",
       "      <th>developer</th>\n",
       "      <th>sentiment</th>\n",
       "      <th>metascore</th>\n",
       "    </tr>\n",
       "  </thead>\n",
       "  <tbody>\n",
       "    <tr>\n",
       "      <th>0</th>\n",
       "      <td>Kotoshiro</td>\n",
       "      <td>[Action, Casual, Indie, Simulation, Strategy]</td>\n",
       "      <td>Lost Summoner Kitty</td>\n",
       "      <td>Lost Summoner Kitty</td>\n",
       "      <td>http://store.steampowered.com/app/761140/Lost_...</td>\n",
       "      <td>2018-01-04</td>\n",
       "      <td>[Strategy, Action, Indie, Casual, Simulation]</td>\n",
       "      <td>4.49</td>\n",
       "      <td>http://steamcommunity.com/app/761140/reviews/?...</td>\n",
       "      <td>[Single-player]</td>\n",
       "      <td>4.99</td>\n",
       "      <td>False</td>\n",
       "      <td>761140</td>\n",
       "      <td>Kotoshiro</td>\n",
       "      <td>NaN</td>\n",
       "      <td>NaN</td>\n",
       "    </tr>\n",
       "    <tr>\n",
       "      <th>1</th>\n",
       "      <td>Making Fun, Inc.</td>\n",
       "      <td>[Free to Play, Indie, RPG, Strategy]</td>\n",
       "      <td>Ironbound</td>\n",
       "      <td>Ironbound</td>\n",
       "      <td>http://store.steampowered.com/app/643980/Ironb...</td>\n",
       "      <td>2018-01-04</td>\n",
       "      <td>[Free to Play, Strategy, Indie, RPG, Card Game...</td>\n",
       "      <td>NaN</td>\n",
       "      <td>http://steamcommunity.com/app/643980/reviews/?...</td>\n",
       "      <td>[Single-player, Multi-player, Online Multi-Pla...</td>\n",
       "      <td>Free To Play</td>\n",
       "      <td>False</td>\n",
       "      <td>643980</td>\n",
       "      <td>Secret Level SRL</td>\n",
       "      <td>Mostly Positive</td>\n",
       "      <td>NaN</td>\n",
       "    </tr>\n",
       "    <tr>\n",
       "      <th>2</th>\n",
       "      <td>Poolians.com</td>\n",
       "      <td>[Casual, Free to Play, Indie, Simulation, Sports]</td>\n",
       "      <td>Real Pool 3D - Poolians</td>\n",
       "      <td>Real Pool 3D - Poolians</td>\n",
       "      <td>http://store.steampowered.com/app/670290/Real_...</td>\n",
       "      <td>2017-07-24</td>\n",
       "      <td>[Free to Play, Simulation, Sports, Casual, Ind...</td>\n",
       "      <td>NaN</td>\n",
       "      <td>http://steamcommunity.com/app/670290/reviews/?...</td>\n",
       "      <td>[Single-player, Multi-player, Online Multi-Pla...</td>\n",
       "      <td>Free to Play</td>\n",
       "      <td>False</td>\n",
       "      <td>670290</td>\n",
       "      <td>Poolians.com</td>\n",
       "      <td>Mostly Positive</td>\n",
       "      <td>NaN</td>\n",
       "    </tr>\n",
       "    <tr>\n",
       "      <th>3</th>\n",
       "      <td>彼岸领域</td>\n",
       "      <td>[Action, Adventure, Casual]</td>\n",
       "      <td>弹炸人2222</td>\n",
       "      <td>弹炸人2222</td>\n",
       "      <td>http://store.steampowered.com/app/767400/2222/</td>\n",
       "      <td>2017-12-07</td>\n",
       "      <td>[Action, Adventure, Casual]</td>\n",
       "      <td>0.83</td>\n",
       "      <td>http://steamcommunity.com/app/767400/reviews/?...</td>\n",
       "      <td>[Single-player]</td>\n",
       "      <td>0.99</td>\n",
       "      <td>False</td>\n",
       "      <td>767400</td>\n",
       "      <td>彼岸领域</td>\n",
       "      <td>NaN</td>\n",
       "      <td>NaN</td>\n",
       "    </tr>\n",
       "    <tr>\n",
       "      <th>4</th>\n",
       "      <td>NaN</td>\n",
       "      <td>NaN</td>\n",
       "      <td>Log Challenge</td>\n",
       "      <td>NaN</td>\n",
       "      <td>http://store.steampowered.com/app/773570/Log_C...</td>\n",
       "      <td>NaN</td>\n",
       "      <td>[Action, Indie, Casual, Sports]</td>\n",
       "      <td>1.79</td>\n",
       "      <td>http://steamcommunity.com/app/773570/reviews/?...</td>\n",
       "      <td>[Single-player, Full controller support, HTC V...</td>\n",
       "      <td>2.99</td>\n",
       "      <td>False</td>\n",
       "      <td>773570</td>\n",
       "      <td>NaN</td>\n",
       "      <td>NaN</td>\n",
       "      <td>NaN</td>\n",
       "    </tr>\n",
       "  </tbody>\n",
       "</table>\n",
       "</div>"
      ],
      "text/plain": [
       "          publisher                                             genres  \\\n",
       "0         Kotoshiro      [Action, Casual, Indie, Simulation, Strategy]   \n",
       "1  Making Fun, Inc.               [Free to Play, Indie, RPG, Strategy]   \n",
       "2      Poolians.com  [Casual, Free to Play, Indie, Simulation, Sports]   \n",
       "3              彼岸领域                        [Action, Adventure, Casual]   \n",
       "4               NaN                                                NaN   \n",
       "\n",
       "                  app_name                    title  \\\n",
       "0      Lost Summoner Kitty      Lost Summoner Kitty   \n",
       "1                Ironbound                Ironbound   \n",
       "2  Real Pool 3D - Poolians  Real Pool 3D - Poolians   \n",
       "3                  弹炸人2222                  弹炸人2222   \n",
       "4            Log Challenge                      NaN   \n",
       "\n",
       "                                                 url release_date  \\\n",
       "0  http://store.steampowered.com/app/761140/Lost_...   2018-01-04   \n",
       "1  http://store.steampowered.com/app/643980/Ironb...   2018-01-04   \n",
       "2  http://store.steampowered.com/app/670290/Real_...   2017-07-24   \n",
       "3     http://store.steampowered.com/app/767400/2222/   2017-12-07   \n",
       "4  http://store.steampowered.com/app/773570/Log_C...          NaN   \n",
       "\n",
       "                                                tags  discount_price  \\\n",
       "0      [Strategy, Action, Indie, Casual, Simulation]            4.49   \n",
       "1  [Free to Play, Strategy, Indie, RPG, Card Game...             NaN   \n",
       "2  [Free to Play, Simulation, Sports, Casual, Ind...             NaN   \n",
       "3                        [Action, Adventure, Casual]            0.83   \n",
       "4                    [Action, Indie, Casual, Sports]            1.79   \n",
       "\n",
       "                                         reviews_url  \\\n",
       "0  http://steamcommunity.com/app/761140/reviews/?...   \n",
       "1  http://steamcommunity.com/app/643980/reviews/?...   \n",
       "2  http://steamcommunity.com/app/670290/reviews/?...   \n",
       "3  http://steamcommunity.com/app/767400/reviews/?...   \n",
       "4  http://steamcommunity.com/app/773570/reviews/?...   \n",
       "\n",
       "                                               specs         price  \\\n",
       "0                                    [Single-player]          4.99   \n",
       "1  [Single-player, Multi-player, Online Multi-Pla...  Free To Play   \n",
       "2  [Single-player, Multi-player, Online Multi-Pla...  Free to Play   \n",
       "3                                    [Single-player]          0.99   \n",
       "4  [Single-player, Full controller support, HTC V...          2.99   \n",
       "\n",
       "   early_access      id         developer        sentiment metascore  \n",
       "0         False  761140         Kotoshiro              NaN       NaN  \n",
       "1         False  643980  Secret Level SRL  Mostly Positive       NaN  \n",
       "2         False  670290      Poolians.com  Mostly Positive       NaN  \n",
       "3         False  767400              彼岸领域              NaN       NaN  \n",
       "4         False  773570               NaN              NaN       NaN  "
      ]
     },
     "execution_count": 6,
     "metadata": {},
     "output_type": "execute_result"
    }
   ],
   "source": [
    "data_games.head()"
   ]
  },
  {
   "cell_type": "code",
   "execution_count": 7,
   "metadata": {},
   "outputs": [
    {
     "name": "stdout",
     "output_type": "stream",
     "text": [
      "<class 'pandas.core.frame.DataFrame'>\n",
      "RangeIndex: 32135 entries, 0 to 32134\n",
      "Data columns (total 16 columns):\n",
      " #   Column          Non-Null Count  Dtype  \n",
      "---  ------          --------------  -----  \n",
      " 0   publisher       24083 non-null  object \n",
      " 1   genres          28852 non-null  object \n",
      " 2   app_name        32133 non-null  object \n",
      " 3   title           30085 non-null  object \n",
      " 4   url             32135 non-null  object \n",
      " 5   release_date    30068 non-null  object \n",
      " 6   tags            31972 non-null  object \n",
      " 7   discount_price  225 non-null    float64\n",
      " 8   reviews_url     32133 non-null  object \n",
      " 9   specs           31465 non-null  object \n",
      " 10  price           30758 non-null  object \n",
      " 11  early_access    32135 non-null  bool   \n",
      " 12  id              32133 non-null  object \n",
      " 13  developer       28836 non-null  object \n",
      " 14  sentiment       24953 non-null  object \n",
      " 15  metascore       2677 non-null   object \n",
      "dtypes: bool(1), float64(1), object(14)\n",
      "memory usage: 3.7+ MB\n"
     ]
    }
   ],
   "source": [
    "data_games.info()"
   ]
  },
  {
   "cell_type": "code",
   "execution_count": 8,
   "metadata": {},
   "outputs": [
    {
     "data": {
      "text/plain": [
       "publisher          8052\n",
       "genres             3283\n",
       "app_name              2\n",
       "title              2050\n",
       "url                   0\n",
       "release_date       2067\n",
       "tags                163\n",
       "discount_price    31910\n",
       "reviews_url           2\n",
       "specs               670\n",
       "price              1377\n",
       "early_access          0\n",
       "id                    2\n",
       "developer          3299\n",
       "sentiment          7182\n",
       "metascore         29458\n",
       "dtype: int64"
      ]
     },
     "execution_count": 8,
     "metadata": {},
     "output_type": "execute_result"
    }
   ],
   "source": [
    "data_games.isna().sum()"
   ]
  },
  {
   "cell_type": "code",
   "execution_count": 9,
   "metadata": {},
   "outputs": [],
   "source": [
    "data_games.drop_duplicates(subset =\"id\",keep = False, inplace = True)"
   ]
  },
  {
   "cell_type": "code",
   "execution_count": 10,
   "metadata": {},
   "outputs": [],
   "source": [
    "data_games.reset_index(inplace=True,drop=True)"
   ]
  },
  {
   "cell_type": "code",
   "execution_count": 11,
   "metadata": {},
   "outputs": [
    {
     "data": {
      "text/plain": [
       "(32131, 16)"
      ]
     },
     "execution_count": 11,
     "metadata": {},
     "output_type": "execute_result"
    }
   ],
   "source": [
    "data_games.shape"
   ]
  },
  {
   "cell_type": "markdown",
   "metadata": {},
   "source": [
    "Llenamos los valores nulos del feature title, extrayendo el nombre del juego desde la url"
   ]
  },
  {
   "cell_type": "code",
   "execution_count": 12,
   "metadata": {},
   "outputs": [],
   "source": [
    "url_splited = data_games.url.str.split('/')"
   ]
  },
  {
   "cell_type": "code",
   "execution_count": 13,
   "metadata": {},
   "outputs": [
    {
     "name": "stderr",
     "output_type": "stream",
     "text": [
      "<ipython-input-13-abade9795606>:6: SettingWithCopyWarning: \n",
      "A value is trying to be set on a copy of a slice from a DataFrame\n",
      "\n",
      "See the caveats in the documentation: https://pandas.pydata.org/pandas-docs/stable/user_guide/indexing.html#returning-a-view-versus-a-copy\n",
      "  data_games[\"URL_NAME\"][k] = i[m]\n"
     ]
    }
   ],
   "source": [
    "resultados = []\n",
    "data_games[\"URL_NAME\"] = \"\"\n",
    "k=0\n",
    "m = 5\n",
    "for i in url_splited:\n",
    "    data_games[\"URL_NAME\"][k] = i[m]\n",
    "    resultados.append(i[m])\n",
    "    k=k+1\n",
    "k=0"
   ]
  },
  {
   "cell_type": "code",
   "execution_count": 14,
   "metadata": {},
   "outputs": [],
   "source": [
    "data_games.drop(['title'],inplace=True,axis=1)"
   ]
  },
  {
   "cell_type": "code",
   "execution_count": 15,
   "metadata": {},
   "outputs": [
    {
     "name": "stdout",
     "output_type": "stream",
     "text": [
      "El 6.059568640876412% son juegos que permiten ser probados antes de su lanzamiento \n"
     ]
    }
   ],
   "source": [
    "data_games.early_access.value_counts()\n",
    "print( f'El {1947/(30184+1947)*100}% son juegos que permiten ser probados antes de su lanzamiento ')"
   ]
  },
  {
   "cell_type": "code",
   "execution_count": 16,
   "metadata": {},
   "outputs": [],
   "source": [
    "data_games['price'].fillna('nulo',inplace=True)"
   ]
  },
  {
   "cell_type": "code",
   "execution_count": 23,
   "metadata": {},
   "outputs": [],
   "source": [
    "data_games['precio']=data_games['price']"
   ]
  },
  {
   "cell_type": "code",
   "execution_count": 26,
   "metadata": {},
   "outputs": [
    {
     "name": "stderr",
     "output_type": "stream",
     "text": [
      "<ipython-input-26-bb33955da970>:8: SettingWithCopyWarning: \n",
      "A value is trying to be set on a copy of a slice from a DataFrame\n",
      "\n",
      "See the caveats in the documentation: https://pandas.pydata.org/pandas-docs/stable/user_guide/indexing.html#returning-a-view-versus-a-copy\n",
      "  data_games.precio[k]=0.00\n"
     ]
    }
   ],
   "source": [
    "k=0\n",
    "for y in data_games.precio:\n",
    "    if(isinstance(y, str)):\n",
    "        if (y.find('Starting')!=-1):\n",
    "            data_games.precio[k]=y.split(' ')[-1]\n",
    "            data_game.precio= data_games.price[k].replace(\"$\", \"\")\n",
    "        else:\n",
    "            data_games.precio[k]=0.00\n",
    "    k=k+1\n",
    "    \n"
   ]
  },
  {
   "cell_type": "code",
   "execution_count": 27,
   "metadata": {},
   "outputs": [
    {
     "data": {
      "text/plain": [
       "array([4.99, 0.0, 0.99, 2.99, 3.99, 9.99, 18.99, 29.99, 10.99, 1.59,\n",
       "       14.99, 1.99, 59.99, 8.99, 6.99, 7.99, 39.99, 19.99, 7.49, 12.99,\n",
       "       5.99, 2.49, 15.99, 1.25, 24.99, 17.99, 61.99, 3.49, 11.99, 13.99,\n",
       "       34.99, 74.76, 1.49, 32.99, 99.99, 14.95, 69.99, 16.99, 79.99,\n",
       "       49.99, 5.0, 44.99, 13.98, 29.96, 119.99, 109.99, 149.99, 771.71,\n",
       "       21.99, 89.99, 0.98, 139.92, 4.29, 64.99, 54.99, 74.99, 0.89, 0.5,\n",
       "       299.99, 1.29, 3.0, 15.0, 5.49, 23.99, 49.0, 20.99, 10.93, 1.39,\n",
       "       36.99, 4.49, 2.0, 4.0, 9.0, 234.99, 1.95, 1.5, 199.0, 189.0, 6.66,\n",
       "       27.99, 10.49, 129.99, 179.0, 26.99, 399.99, 31.99, 399.0, 20.0,\n",
       "       40.0, 3.33, 199.99, 22.99, 320.0, 38.85, 71.7, 59.95, 995.0, 27.49,\n",
       "       3.39, 6.0, 19.95, 499.99, 16.06, 4.68, 131.4, 44.98, 202.76, 1.0,\n",
       "       2.3, 0.95, 172.24, 249.99, 2.97, 10.96, 10.0, 30.0, 2.66, 6.48,\n",
       "       19.29, 11.15, 18.9, 2.89, 99.0, 87.94, 599.0, 8.98, 9.69, 0.49,\n",
       "       9.98, 9.95, 7.0, 12.89, 6.49, 1.87, 42.99, 41.99, 289.99, 23.96,\n",
       "       5.65, 12.0, 13.37, 189.96, 124.99, 19.98, 160.91], dtype=object)"
      ]
     },
     "execution_count": 27,
     "metadata": {},
     "output_type": "execute_result"
    }
   ],
   "source": [
    "data_games.precio.unique()"
   ]
  },
  {
   "cell_type": "code",
   "execution_count": 48,
   "metadata": {},
   "outputs": [
    {
     "data": {
      "text/plain": [
       "<matplotlib.axes._subplots.AxesSubplot at 0x1c941052e20>"
      ]
     },
     "execution_count": 48,
     "metadata": {},
     "output_type": "execute_result"
    },
    {
     "data": {
      "image/png": "[encoded data removed]",
      "text/plain": [
       "<Figure size 1440x720 with 1 Axes>"
      ]
     },
     "metadata": {},
     "output_type": "display_data"
    }
   ],
   "source": [
    "plt.figure(figsize=(20, 10))\n",
    "sns.boxplot(x=data_games.precio[data_games.precio<399])##ver como cambiar escala abajo"
   ]
  },
  {
   "cell_type": "code",
   "execution_count": 182,
   "metadata": {},
   "outputs": [
    {
     "data": {
      "text/html": [
       "<div>\n",
       "<style scoped>\n",
       "    .dataframe tbody tr th:only-of-type {\n",
       "        vertical-align: middle;\n",
       "    }\n",
       "\n",
       "    .dataframe tbody tr th {\n",
       "        vertical-align: top;\n",
       "    }\n",
       "\n",
       "    .dataframe thead th {\n",
       "        text-align: right;\n",
       "    }\n",
       "</style>\n",
       "<table border=\"1\" class=\"dataframe\">\n",
       "  <thead>\n",
       "    <tr style=\"text-align: right;\">\n",
       "      <th></th>\n",
       "      <th>id</th>\n",
       "      <th>title</th>\n",
       "    </tr>\n",
       "  </thead>\n",
       "  <tbody>\n",
       "    <tr>\n",
       "      <th>74</th>\n",
       "      <td>NaN</td>\n",
       "      <td>NaN</td>\n",
       "    </tr>\n",
       "    <tr>\n",
       "      <th>30961</th>\n",
       "      <td>NaN</td>\n",
       "      <td>Batman: Arkham City - Game of the Year Edition</td>\n",
       "    </tr>\n",
       "  </tbody>\n",
       "</table>\n",
       "</div>"
      ],
      "text/plain": [
       "        id                                           title\n",
       "74     NaN                                             NaN\n",
       "30961  NaN  Batman: Arkham City - Game of the Year Edition"
      ]
     },
     "execution_count": 182,
     "metadata": {},
     "output_type": "execute_result"
    }
   ],
   "source": [
    "data_games2[data_games2.id.isna()]"
   ]
  },
  {
   "cell_type": "code",
   "execution_count": 183,
   "metadata": {},
   "outputs": [],
   "source": [
    "#data_games2.title.fillna('buscar_valor',inplace=True)"
   ]
  },
  {
   "cell_type": "code",
   "execution_count": 184,
   "metadata": {},
   "outputs": [],
   "source": [
    "#data_games2.id.fillna(0000,inplace=True)"
   ]
  },
  {
   "cell_type": "code",
   "execution_count": 185,
   "metadata": {},
   "outputs": [],
   "source": [
    "data_games2.id=pd.to_numeric(data_games2.id,downcast='integer')"
   ]
  },
  {
   "cell_type": "code",
   "execution_count": 186,
   "metadata": {},
   "outputs": [],
   "source": [
    "#data_reviews2[data_reviews2.product_id==764110]"
   ]
  },
  {
   "cell_type": "markdown",
   "metadata": {},
   "source": [
    "### SISTEMA DE RECOMENDACION"
   ]
  },
  {
   "cell_type": "code",
   "execution_count": 66,
   "metadata": {},
   "outputs": [],
   "source": [
    "reader=Reader()"
   ]
  },
  {
   "cell_type": "code",
   "execution_count": 67,
   "metadata": {},
   "outputs": [],
   "source": [
    "data=Dataset.load_from_df(data_reviews4[['username','product_id','Calif']],reader=reader)"
   ]
  },
  {
   "cell_type": "code",
   "execution_count": 68,
   "metadata": {},
   "outputs": [],
   "source": [
    "trainset,testset=train_test_split(data,test_size=.3)"
   ]
  },
  {
   "cell_type": "code",
   "execution_count": 69,
   "metadata": {},
   "outputs": [],
   "source": [
    "algo=SVD()"
   ]
  },
  {
   "cell_type": "code",
   "execution_count": 70,
   "metadata": {},
   "outputs": [
    {
     "data": {
      "text/plain": [
       "<surprise.prediction_algorithms.matrix_factorization.SVD at 0x1c93ffc6fd0>"
      ]
     },
     "execution_count": 70,
     "metadata": {},
     "output_type": "execute_result"
    }
   ],
   "source": [
    "algo.fit(trainset)"
   ]
  },
  {
   "cell_type": "code",
   "execution_count": 71,
   "metadata": {},
   "outputs": [],
   "source": [
    "prediction=algo.test(testset)"
   ]
  },
  {
   "cell_type": "code",
   "execution_count": 72,
   "metadata": {},
   "outputs": [],
   "source": [
    "usuario='Alex'"
   ]
  },
  {
   "cell_type": "code",
   "execution_count": 93,
   "metadata": {},
   "outputs": [],
   "source": [
    "data_reviews_ok=data_reviews4.loc[:,['username','Calif','product_id']]"
   ]
  },
  {
   "cell_type": "code",
   "execution_count": 94,
   "metadata": {},
   "outputs": [],
   "source": [
    "no_vista_usuario=data_reviews_ok[data_reviews_ok[\"username\"]!=usuario]\n",
    "no_vista_usuario.reset_index(drop=True,inplace=True)\n",
    "no_vista_usuario=no_vista_usuario['product_id']"
   ]
  },
  {
   "cell_type": "code",
   "execution_count": 89,
   "metadata": {},
   "outputs": [],
   "source": [
    "data_games.id=pd.to_numeric(data_games.id)"
   ]
  },
  {
   "cell_type": "code",
   "execution_count": 97,
   "metadata": {},
   "outputs": [],
   "source": [
    "#no_vista_usuario=pd.merge(left=pd.DataFrame(no_vista_usuario),right=data_games, left_on='product_id', right_on='id')"
   ]
  },
  {
   "cell_type": "code",
   "execution_count": 98,
   "metadata": {},
   "outputs": [
    {
     "data": {
      "text/html": [
       "<div>\n",
       "<style scoped>\n",
       "    .dataframe tbody tr th:only-of-type {\n",
       "        vertical-align: middle;\n",
       "    }\n",
       "\n",
       "    .dataframe tbody tr th {\n",
       "        vertical-align: top;\n",
       "    }\n",
       "\n",
       "    .dataframe thead th {\n",
       "        text-align: right;\n",
       "    }\n",
       "</style>\n",
       "<table border=\"1\" class=\"dataframe\">\n",
       "  <thead>\n",
       "    <tr style=\"text-align: right;\">\n",
       "      <th></th>\n",
       "      <th>product_id</th>\n",
       "      <th>publisher</th>\n",
       "      <th>genres</th>\n",
       "      <th>app_name</th>\n",
       "      <th>url</th>\n",
       "      <th>release_date</th>\n",
       "      <th>tags</th>\n",
       "      <th>discount_price</th>\n",
       "      <th>reviews_url</th>\n",
       "      <th>specs</th>\n",
       "      <th>price</th>\n",
       "      <th>early_access</th>\n",
       "      <th>id</th>\n",
       "      <th>developer</th>\n",
       "      <th>sentiment</th>\n",
       "      <th>metascore</th>\n",
       "      <th>URL_NAME</th>\n",
       "      <th>precio</th>\n",
       "    </tr>\n",
       "  </thead>\n",
       "  <tbody>\n",
       "    <tr>\n",
       "      <th>0</th>\n",
       "      <td>35140</td>\n",
       "      <td>Warner Bros. Interactive Entertainment, Feral ...</td>\n",
       "      <td>[Action, Adventure]</td>\n",
       "      <td>Batman: Arkham Asylum Game of the Year Edition</td>\n",
       "      <td>http://store.steampowered.com/app/35140/Batman...</td>\n",
       "      <td>2010-03-26</td>\n",
       "      <td>[Action, Batman, Stealth, Adventure, Third Per...</td>\n",
       "      <td>NaN</td>\n",
       "      <td>http://steamcommunity.com/app/35140/reviews/?b...</td>\n",
       "      <td>[Single-player, Steam Achievements, Steam Trad...</td>\n",
       "      <td>19.99</td>\n",
       "      <td>False</td>\n",
       "      <td>35140</td>\n",
       "      <td>Rocksteady Studios,Feral Interactive (Mac)</td>\n",
       "      <td>Overwhelmingly Positive</td>\n",
       "      <td>91</td>\n",
       "      <td>Batman_Arkham_Asylum_Game_of_the_Year_Edition</td>\n",
       "      <td>19.99</td>\n",
       "    </tr>\n",
       "    <tr>\n",
       "      <th>1</th>\n",
       "      <td>35140</td>\n",
       "      <td>Warner Bros. Interactive Entertainment, Feral ...</td>\n",
       "      <td>[Action, Adventure]</td>\n",
       "      <td>Batman: Arkham Asylum Game of the Year Edition</td>\n",
       "      <td>http://store.steampowered.com/app/35140/Batman...</td>\n",
       "      <td>2010-03-26</td>\n",
       "      <td>[Action, Batman, Stealth, Adventure, Third Per...</td>\n",
       "      <td>NaN</td>\n",
       "      <td>http://steamcommunity.com/app/35140/reviews/?b...</td>\n",
       "      <td>[Single-player, Steam Achievements, Steam Trad...</td>\n",
       "      <td>19.99</td>\n",
       "      <td>False</td>\n",
       "      <td>35140</td>\n",
       "      <td>Rocksteady Studios,Feral Interactive (Mac)</td>\n",
       "      <td>Overwhelmingly Positive</td>\n",
       "      <td>91</td>\n",
       "      <td>Batman_Arkham_Asylum_Game_of_the_Year_Edition</td>\n",
       "      <td>19.99</td>\n",
       "    </tr>\n",
       "    <tr>\n",
       "      <th>2</th>\n",
       "      <td>35140</td>\n",
       "      <td>Warner Bros. Interactive Entertainment, Feral ...</td>\n",
       "      <td>[Action, Adventure]</td>\n",
       "      <td>Batman: Arkham Asylum Game of the Year Edition</td>\n",
       "      <td>http://store.steampowered.com/app/35140/Batman...</td>\n",
       "      <td>2010-03-26</td>\n",
       "      <td>[Action, Batman, Stealth, Adventure, Third Per...</td>\n",
       "      <td>NaN</td>\n",
       "      <td>http://steamcommunity.com/app/35140/reviews/?b...</td>\n",
       "      <td>[Single-player, Steam Achievements, Steam Trad...</td>\n",
       "      <td>19.99</td>\n",
       "      <td>False</td>\n",
       "      <td>35140</td>\n",
       "      <td>Rocksteady Studios,Feral Interactive (Mac)</td>\n",
       "      <td>Overwhelmingly Positive</td>\n",
       "      <td>91</td>\n",
       "      <td>Batman_Arkham_Asylum_Game_of_the_Year_Edition</td>\n",
       "      <td>19.99</td>\n",
       "    </tr>\n",
       "    <tr>\n",
       "      <th>3</th>\n",
       "      <td>35140</td>\n",
       "      <td>Warner Bros. Interactive Entertainment, Feral ...</td>\n",
       "      <td>[Action, Adventure]</td>\n",
       "      <td>Batman: Arkham Asylum Game of the Year Edition</td>\n",
       "      <td>http://store.steampowered.com/app/35140/Batman...</td>\n",
       "      <td>2010-03-26</td>\n",
       "      <td>[Action, Batman, Stealth, Adventure, Third Per...</td>\n",
       "      <td>NaN</td>\n",
       "      <td>http://steamcommunity.com/app/35140/reviews/?b...</td>\n",
       "      <td>[Single-player, Steam Achievements, Steam Trad...</td>\n",
       "      <td>19.99</td>\n",
       "      <td>False</td>\n",
       "      <td>35140</td>\n",
       "      <td>Rocksteady Studios,Feral Interactive (Mac)</td>\n",
       "      <td>Overwhelmingly Positive</td>\n",
       "      <td>91</td>\n",
       "      <td>Batman_Arkham_Asylum_Game_of_the_Year_Edition</td>\n",
       "      <td>19.99</td>\n",
       "    </tr>\n",
       "    <tr>\n",
       "      <th>4</th>\n",
       "      <td>35140</td>\n",
       "      <td>Warner Bros. Interactive Entertainment, Feral ...</td>\n",
       "      <td>[Action, Adventure]</td>\n",
       "      <td>Batman: Arkham Asylum Game of the Year Edition</td>\n",
       "      <td>http://store.steampowered.com/app/35140/Batman...</td>\n",
       "      <td>2010-03-26</td>\n",
       "      <td>[Action, Batman, Stealth, Adventure, Third Per...</td>\n",
       "      <td>NaN</td>\n",
       "      <td>http://steamcommunity.com/app/35140/reviews/?b...</td>\n",
       "      <td>[Single-player, Steam Achievements, Steam Trad...</td>\n",
       "      <td>19.99</td>\n",
       "      <td>False</td>\n",
       "      <td>35140</td>\n",
       "      <td>Rocksteady Studios,Feral Interactive (Mac)</td>\n",
       "      <td>Overwhelmingly Positive</td>\n",
       "      <td>91</td>\n",
       "      <td>Batman_Arkham_Asylum_Game_of_the_Year_Edition</td>\n",
       "      <td>19.99</td>\n",
       "    </tr>\n",
       "    <tr>\n",
       "      <th>...</th>\n",
       "      <td>...</td>\n",
       "      <td>...</td>\n",
       "      <td>...</td>\n",
       "      <td>...</td>\n",
       "      <td>...</td>\n",
       "      <td>...</td>\n",
       "      <td>...</td>\n",
       "      <td>...</td>\n",
       "      <td>...</td>\n",
       "      <td>...</td>\n",
       "      <td>...</td>\n",
       "      <td>...</td>\n",
       "      <td>...</td>\n",
       "      <td>...</td>\n",
       "      <td>...</td>\n",
       "      <td>...</td>\n",
       "      <td>...</td>\n",
       "      <td>...</td>\n",
       "    </tr>\n",
       "    <tr>\n",
       "      <th>2223578</th>\n",
       "      <td>518790</td>\n",
       "      <td>Avalanche Studios</td>\n",
       "      <td>[Adventure, Simulation, Sports]</td>\n",
       "      <td>theHunter: Call of the Wild™</td>\n",
       "      <td>http://store.steampowered.com/app/518790/theHu...</td>\n",
       "      <td>2017-02-16</td>\n",
       "      <td>[Hunting, Open World, Multiplayer, Simulation,...</td>\n",
       "      <td>NaN</td>\n",
       "      <td>http://steamcommunity.com/app/518790/reviews/?...</td>\n",
       "      <td>[Single-player, Multi-player, Steam Achievemen...</td>\n",
       "      <td>29.99</td>\n",
       "      <td>False</td>\n",
       "      <td>518790</td>\n",
       "      <td>Expansive Worlds</td>\n",
       "      <td>Mostly Positive</td>\n",
       "      <td>NaN</td>\n",
       "      <td>theHunter_Call_of_the_Wild</td>\n",
       "      <td>29.99</td>\n",
       "    </tr>\n",
       "    <tr>\n",
       "      <th>2223579</th>\n",
       "      <td>518790</td>\n",
       "      <td>Avalanche Studios</td>\n",
       "      <td>[Adventure, Simulation, Sports]</td>\n",
       "      <td>theHunter: Call of the Wild™</td>\n",
       "      <td>http://store.steampowered.com/app/518790/theHu...</td>\n",
       "      <td>2017-02-16</td>\n",
       "      <td>[Hunting, Open World, Multiplayer, Simulation,...</td>\n",
       "      <td>NaN</td>\n",
       "      <td>http://steamcommunity.com/app/518790/reviews/?...</td>\n",
       "      <td>[Single-player, Multi-player, Steam Achievemen...</td>\n",
       "      <td>29.99</td>\n",
       "      <td>False</td>\n",
       "      <td>518790</td>\n",
       "      <td>Expansive Worlds</td>\n",
       "      <td>Mostly Positive</td>\n",
       "      <td>NaN</td>\n",
       "      <td>theHunter_Call_of_the_Wild</td>\n",
       "      <td>29.99</td>\n",
       "    </tr>\n",
       "    <tr>\n",
       "      <th>2223580</th>\n",
       "      <td>518790</td>\n",
       "      <td>Avalanche Studios</td>\n",
       "      <td>[Adventure, Simulation, Sports]</td>\n",
       "      <td>theHunter: Call of the Wild™</td>\n",
       "      <td>http://store.steampowered.com/app/518790/theHu...</td>\n",
       "      <td>2017-02-16</td>\n",
       "      <td>[Hunting, Open World, Multiplayer, Simulation,...</td>\n",
       "      <td>NaN</td>\n",
       "      <td>http://steamcommunity.com/app/518790/reviews/?...</td>\n",
       "      <td>[Single-player, Multi-player, Steam Achievemen...</td>\n",
       "      <td>29.99</td>\n",
       "      <td>False</td>\n",
       "      <td>518790</td>\n",
       "      <td>Expansive Worlds</td>\n",
       "      <td>Mostly Positive</td>\n",
       "      <td>NaN</td>\n",
       "      <td>theHunter_Call_of_the_Wild</td>\n",
       "      <td>29.99</td>\n",
       "    </tr>\n",
       "    <tr>\n",
       "      <th>2223581</th>\n",
       "      <td>518790</td>\n",
       "      <td>Avalanche Studios</td>\n",
       "      <td>[Adventure, Simulation, Sports]</td>\n",
       "      <td>theHunter: Call of the Wild™</td>\n",
       "      <td>http://store.steampowered.com/app/518790/theHu...</td>\n",
       "      <td>2017-02-16</td>\n",
       "      <td>[Hunting, Open World, Multiplayer, Simulation,...</td>\n",
       "      <td>NaN</td>\n",
       "      <td>http://steamcommunity.com/app/518790/reviews/?...</td>\n",
       "      <td>[Single-player, Multi-player, Steam Achievemen...</td>\n",
       "      <td>29.99</td>\n",
       "      <td>False</td>\n",
       "      <td>518790</td>\n",
       "      <td>Expansive Worlds</td>\n",
       "      <td>Mostly Positive</td>\n",
       "      <td>NaN</td>\n",
       "      <td>theHunter_Call_of_the_Wild</td>\n",
       "      <td>29.99</td>\n",
       "    </tr>\n",
       "    <tr>\n",
       "      <th>2223582</th>\n",
       "      <td>518790</td>\n",
       "      <td>Avalanche Studios</td>\n",
       "      <td>[Adventure, Simulation, Sports]</td>\n",
       "      <td>theHunter: Call of the Wild™</td>\n",
       "      <td>http://store.steampowered.com/app/518790/theHu...</td>\n",
       "      <td>2017-02-16</td>\n",
       "      <td>[Hunting, Open World, Multiplayer, Simulation,...</td>\n",
       "      <td>NaN</td>\n",
       "      <td>http://steamcommunity.com/app/518790/reviews/?...</td>\n",
       "      <td>[Single-player, Multi-player, Steam Achievemen...</td>\n",
       "      <td>29.99</td>\n",
       "      <td>False</td>\n",
       "      <td>518790</td>\n",
       "      <td>Expansive Worlds</td>\n",
       "      <td>Mostly Positive</td>\n",
       "      <td>NaN</td>\n",
       "      <td>theHunter_Call_of_the_Wild</td>\n",
       "      <td>29.99</td>\n",
       "    </tr>\n",
       "  </tbody>\n",
       "</table>\n",
       "<p>2223583 rows × 18 columns</p>\n",
       "</div>"
      ],
      "text/plain": [
       "         product_id                                          publisher  \\\n",
       "0             35140  Warner Bros. Interactive Entertainment, Feral ...   \n",
       "1             35140  Warner Bros. Interactive Entertainment, Feral ...   \n",
       "2             35140  Warner Bros. Interactive Entertainment, Feral ...   \n",
       "3             35140  Warner Bros. Interactive Entertainment, Feral ...   \n",
       "4             35140  Warner Bros. Interactive Entertainment, Feral ...   \n",
       "...             ...                                                ...   \n",
       "2223578      518790                                  Avalanche Studios   \n",
       "2223579      518790                                  Avalanche Studios   \n",
       "2223580      518790                                  Avalanche Studios   \n",
       "2223581      518790                                  Avalanche Studios   \n",
       "2223582      518790                                  Avalanche Studios   \n",
       "\n",
       "                                  genres  \\\n",
       "0                    [Action, Adventure]   \n",
       "1                    [Action, Adventure]   \n",
       "2                    [Action, Adventure]   \n",
       "3                    [Action, Adventure]   \n",
       "4                    [Action, Adventure]   \n",
       "...                                  ...   \n",
       "2223578  [Adventure, Simulation, Sports]   \n",
       "2223579  [Adventure, Simulation, Sports]   \n",
       "2223580  [Adventure, Simulation, Sports]   \n",
       "2223581  [Adventure, Simulation, Sports]   \n",
       "2223582  [Adventure, Simulation, Sports]   \n",
       "\n",
       "                                               app_name  \\\n",
       "0        Batman: Arkham Asylum Game of the Year Edition   \n",
       "1        Batman: Arkham Asylum Game of the Year Edition   \n",
       "2        Batman: Arkham Asylum Game of the Year Edition   \n",
       "3        Batman: Arkham Asylum Game of the Year Edition   \n",
       "4        Batman: Arkham Asylum Game of the Year Edition   \n",
       "...                                                 ...   \n",
       "2223578                    theHunter: Call of the Wild™   \n",
       "2223579                    theHunter: Call of the Wild™   \n",
       "2223580                    theHunter: Call of the Wild™   \n",
       "2223581                    theHunter: Call of the Wild™   \n",
       "2223582                    theHunter: Call of the Wild™   \n",
       "\n",
       "                                                       url release_date  \\\n",
       "0        http://store.steampowered.com/app/35140/Batman...   2010-03-26   \n",
       "1        http://store.steampowered.com/app/35140/Batman...   2010-03-26   \n",
       "2        http://store.steampowered.com/app/35140/Batman...   2010-03-26   \n",
       "3        http://store.steampowered.com/app/35140/Batman...   2010-03-26   \n",
       "4        http://store.steampowered.com/app/35140/Batman...   2010-03-26   \n",
       "...                                                    ...          ...   \n",
       "2223578  http://store.steampowered.com/app/518790/theHu...   2017-02-16   \n",
       "2223579  http://store.steampowered.com/app/518790/theHu...   2017-02-16   \n",
       "2223580  http://store.steampowered.com/app/518790/theHu...   2017-02-16   \n",
       "2223581  http://store.steampowered.com/app/518790/theHu...   2017-02-16   \n",
       "2223582  http://store.steampowered.com/app/518790/theHu...   2017-02-16   \n",
       "\n",
       "                                                      tags  discount_price  \\\n",
       "0        [Action, Batman, Stealth, Adventure, Third Per...             NaN   \n",
       "1        [Action, Batman, Stealth, Adventure, Third Per...             NaN   \n",
       "2        [Action, Batman, Stealth, Adventure, Third Per...             NaN   \n",
       "3        [Action, Batman, Stealth, Adventure, Third Per...             NaN   \n",
       "4        [Action, Batman, Stealth, Adventure, Third Per...             NaN   \n",
       "...                                                    ...             ...   \n",
       "2223578  [Hunting, Open World, Multiplayer, Simulation,...             NaN   \n",
       "2223579  [Hunting, Open World, Multiplayer, Simulation,...             NaN   \n",
       "2223580  [Hunting, Open World, Multiplayer, Simulation,...             NaN   \n",
       "2223581  [Hunting, Open World, Multiplayer, Simulation,...             NaN   \n",
       "2223582  [Hunting, Open World, Multiplayer, Simulation,...             NaN   \n",
       "\n",
       "                                               reviews_url  \\\n",
       "0        http://steamcommunity.com/app/35140/reviews/?b...   \n",
       "1        http://steamcommunity.com/app/35140/reviews/?b...   \n",
       "2        http://steamcommunity.com/app/35140/reviews/?b...   \n",
       "3        http://steamcommunity.com/app/35140/reviews/?b...   \n",
       "4        http://steamcommunity.com/app/35140/reviews/?b...   \n",
       "...                                                    ...   \n",
       "2223578  http://steamcommunity.com/app/518790/reviews/?...   \n",
       "2223579  http://steamcommunity.com/app/518790/reviews/?...   \n",
       "2223580  http://steamcommunity.com/app/518790/reviews/?...   \n",
       "2223581  http://steamcommunity.com/app/518790/reviews/?...   \n",
       "2223582  http://steamcommunity.com/app/518790/reviews/?...   \n",
       "\n",
       "                                                     specs  price  \\\n",
       "0        [Single-player, Steam Achievements, Steam Trad...  19.99   \n",
       "1        [Single-player, Steam Achievements, Steam Trad...  19.99   \n",
       "2        [Single-player, Steam Achievements, Steam Trad...  19.99   \n",
       "3        [Single-player, Steam Achievements, Steam Trad...  19.99   \n",
       "4        [Single-player, Steam Achievements, Steam Trad...  19.99   \n",
       "...                                                    ...    ...   \n",
       "2223578  [Single-player, Multi-player, Steam Achievemen...  29.99   \n",
       "2223579  [Single-player, Multi-player, Steam Achievemen...  29.99   \n",
       "2223580  [Single-player, Multi-player, Steam Achievemen...  29.99   \n",
       "2223581  [Single-player, Multi-player, Steam Achievemen...  29.99   \n",
       "2223582  [Single-player, Multi-player, Steam Achievemen...  29.99   \n",
       "\n",
       "         early_access      id                                   developer  \\\n",
       "0               False   35140  Rocksteady Studios,Feral Interactive (Mac)   \n",
       "1               False   35140  Rocksteady Studios,Feral Interactive (Mac)   \n",
       "2               False   35140  Rocksteady Studios,Feral Interactive (Mac)   \n",
       "3               False   35140  Rocksteady Studios,Feral Interactive (Mac)   \n",
       "4               False   35140  Rocksteady Studios,Feral Interactive (Mac)   \n",
       "...               ...     ...                                         ...   \n",
       "2223578         False  518790                            Expansive Worlds   \n",
       "2223579         False  518790                            Expansive Worlds   \n",
       "2223580         False  518790                            Expansive Worlds   \n",
       "2223581         False  518790                            Expansive Worlds   \n",
       "2223582         False  518790                            Expansive Worlds   \n",
       "\n",
       "                       sentiment metascore  \\\n",
       "0        Overwhelmingly Positive        91   \n",
       "1        Overwhelmingly Positive        91   \n",
       "2        Overwhelmingly Positive        91   \n",
       "3        Overwhelmingly Positive        91   \n",
       "4        Overwhelmingly Positive        91   \n",
       "...                          ...       ...   \n",
       "2223578          Mostly Positive       NaN   \n",
       "2223579          Mostly Positive       NaN   \n",
       "2223580          Mostly Positive       NaN   \n",
       "2223581          Mostly Positive       NaN   \n",
       "2223582          Mostly Positive       NaN   \n",
       "\n",
       "                                              URL_NAME precio  \n",
       "0        Batman_Arkham_Asylum_Game_of_the_Year_Edition  19.99  \n",
       "1        Batman_Arkham_Asylum_Game_of_the_Year_Edition  19.99  \n",
       "2        Batman_Arkham_Asylum_Game_of_the_Year_Edition  19.99  \n",
       "3        Batman_Arkham_Asylum_Game_of_the_Year_Edition  19.99  \n",
       "4        Batman_Arkham_Asylum_Game_of_the_Year_Edition  19.99  \n",
       "...                                                ...    ...  \n",
       "2223578                     theHunter_Call_of_the_Wild  29.99  \n",
       "2223579                     theHunter_Call_of_the_Wild  29.99  \n",
       "2223580                     theHunter_Call_of_the_Wild  29.99  \n",
       "2223581                     theHunter_Call_of_the_Wild  29.99  \n",
       "2223582                     theHunter_Call_of_the_Wild  29.99  \n",
       "\n",
       "[2223583 rows x 18 columns]"
      ]
     },
     "execution_count": 98,
     "metadata": {},
     "output_type": "execute_result"
    }
   ],
   "source": [
    "#no_vista_usuario"
   ]
  },
  {
   "cell_type": "code",
   "execution_count": 204,
   "metadata": {},
   "outputs": [],
   "source": [
    "no_vista_usuario.reset_index(drop=True,inplace=True)"
   ]
  },
  {
   "cell_type": "code",
   "execution_count": 205,
   "metadata": {},
   "outputs": [],
   "source": [
    "no_vista_usuario['Score_model']=no_vista_usuario['product_id'].apply(lambda x: algo.predict(usuario,x).est)"
   ]
  },
  {
   "cell_type": "code",
   "execution_count": 207,
   "metadata": {},
   "outputs": [],
   "source": [
    "no_vista_usuario['Username']=usuario"
   ]
  },
  {
   "cell_type": "code",
   "execution_count": 208,
   "metadata": {},
   "outputs": [
    {
     "data": {
      "text/html": [
       "<div>\n",
       "<style scoped>\n",
       "    .dataframe tbody tr th:only-of-type {\n",
       "        vertical-align: middle;\n",
       "    }\n",
       "\n",
       "    .dataframe tbody tr th {\n",
       "        vertical-align: top;\n",
       "    }\n",
       "\n",
       "    .dataframe thead th {\n",
       "        text-align: right;\n",
       "    }\n",
       "</style>\n",
       "<table border=\"1\" class=\"dataframe\">\n",
       "  <thead>\n",
       "    <tr style=\"text-align: right;\">\n",
       "      <th></th>\n",
       "      <th>product_id</th>\n",
       "      <th>title</th>\n",
       "      <th>Score_model</th>\n",
       "      <th>Username</th>\n",
       "    </tr>\n",
       "  </thead>\n",
       "  <tbody>\n",
       "    <tr>\n",
       "      <th>0</th>\n",
       "      <td>35140</td>\n",
       "      <td>Batman: Arkham Asylum Game of the Year Edition</td>\n",
       "      <td>2.198650</td>\n",
       "      <td>Alex</td>\n",
       "    </tr>\n",
       "    <tr>\n",
       "      <th>1</th>\n",
       "      <td>506510</td>\n",
       "      <td>Shadows of Adam</td>\n",
       "      <td>1.856275</td>\n",
       "      <td>Alex</td>\n",
       "    </tr>\n",
       "    <tr>\n",
       "      <th>2</th>\n",
       "      <td>350280</td>\n",
       "      <td>LawBreakers</td>\n",
       "      <td>1.591307</td>\n",
       "      <td>Alex</td>\n",
       "    </tr>\n",
       "    <tr>\n",
       "      <th>3</th>\n",
       "      <td>620900</td>\n",
       "      <td>Witchinour</td>\n",
       "      <td>2.206852</td>\n",
       "      <td>Alex</td>\n",
       "    </tr>\n",
       "    <tr>\n",
       "      <th>4</th>\n",
       "      <td>431320</td>\n",
       "      <td>Recourse Demo</td>\n",
       "      <td>1.869339</td>\n",
       "      <td>Alex</td>\n",
       "    </tr>\n",
       "    <tr>\n",
       "      <th>...</th>\n",
       "      <td>...</td>\n",
       "      <td>...</td>\n",
       "      <td>...</td>\n",
       "      <td>...</td>\n",
       "    </tr>\n",
       "    <tr>\n",
       "      <th>9653</th>\n",
       "      <td>673760</td>\n",
       "      <td>Air Tactical</td>\n",
       "      <td>1.539993</td>\n",
       "      <td>Alex</td>\n",
       "    </tr>\n",
       "    <tr>\n",
       "      <th>9654</th>\n",
       "      <td>460340</td>\n",
       "      <td>Guards</td>\n",
       "      <td>1.702710</td>\n",
       "      <td>Alex</td>\n",
       "    </tr>\n",
       "    <tr>\n",
       "      <th>9655</th>\n",
       "      <td>34420</td>\n",
       "      <td>XIII Century – Gold Edition</td>\n",
       "      <td>1.698583</td>\n",
       "      <td>Alex</td>\n",
       "    </tr>\n",
       "    <tr>\n",
       "      <th>9656</th>\n",
       "      <td>546380</td>\n",
       "      <td>Crispy Chicken</td>\n",
       "      <td>1.806299</td>\n",
       "      <td>Alex</td>\n",
       "    </tr>\n",
       "    <tr>\n",
       "      <th>9657</th>\n",
       "      <td>518790</td>\n",
       "      <td>theHunter: Call of the Wild™</td>\n",
       "      <td>1.426359</td>\n",
       "      <td>Alex</td>\n",
       "    </tr>\n",
       "  </tbody>\n",
       "</table>\n",
       "<p>9658 rows × 4 columns</p>\n",
       "</div>"
      ],
      "text/plain": [
       "      product_id                                           title  Score_model  \\\n",
       "0          35140  Batman: Arkham Asylum Game of the Year Edition     2.198650   \n",
       "1         506510                                 Shadows of Adam     1.856275   \n",
       "2         350280                                     LawBreakers     1.591307   \n",
       "3         620900                                      Witchinour     2.206852   \n",
       "4         431320                                   Recourse Demo     1.869339   \n",
       "...          ...                                             ...          ...   \n",
       "9653      673760                                    Air Tactical     1.539993   \n",
       "9654      460340                                          Guards     1.702710   \n",
       "9655       34420                     XIII Century – Gold Edition     1.698583   \n",
       "9656      546380                                  Crispy Chicken     1.806299   \n",
       "9657      518790                    theHunter: Call of the Wild™     1.426359   \n",
       "\n",
       "     Username  \n",
       "0        Alex  \n",
       "1        Alex  \n",
       "2        Alex  \n",
       "3        Alex  \n",
       "4        Alex  \n",
       "...       ...  \n",
       "9653     Alex  \n",
       "9654     Alex  \n",
       "9655     Alex  \n",
       "9656     Alex  \n",
       "9657     Alex  \n",
       "\n",
       "[9658 rows x 4 columns]"
      ]
     },
     "execution_count": 208,
     "metadata": {},
     "output_type": "execute_result"
    }
   ],
   "source": [
    "no_vista_usuario"
   ]
  },
  {
   "cell_type": "code",
   "execution_count": 209,
   "metadata": {},
   "outputs": [
    {
     "name": "stdout",
     "output_type": "stream",
     "text": [
      "RMSE: 0.9270\n"
     ]
    },
    {
     "data": {
      "text/plain": [
       "0.9270185435273325"
      ]
     },
     "execution_count": 209,
     "metadata": {},
     "output_type": "execute_result"
    }
   ],
   "source": [
    "accuracy.rmse(prediction)"
   ]
  },
  {
   "cell_type": "code",
   "execution_count": null,
   "metadata": {},
   "outputs": [
    {
     "name": "stdout",
     "output_type": "stream",
     "text": [
      "\n",
      "Número de Factores: 1\n",
      "Evaluating RMSE of algorithm SVD on 3 split(s).\n",
      "\n",
      "                  Fold 1  Fold 2  Fold 3  Mean    Std     \n",
      "RMSE (testset)    0.9013  0.9011  0.9017  0.9014  0.0002  \n",
      "Fit time          117.51  115.93  59.54   97.66   26.96   \n",
      "Test time         33.32   15.09   14.58   21.00   8.72    \n",
      "\n",
      "Número de Factores: 2\n",
      "Evaluating RMSE of algorithm SVD on 3 split(s).\n",
      "\n",
      "                  Fold 1  Fold 2  Fold 3  Mean    Std     \n",
      "RMSE (testset)    0.9010  0.9010  0.9010  0.9010  0.0000  \n",
      "Fit time          59.75   60.47   61.50   60.57   0.72    \n",
      "Test time         10.70   14.52   11.05   12.09   1.72    \n",
      "\n",
      "Número de Factores: 4\n",
      "Evaluating RMSE of algorithm SVD on 3 split(s).\n",
      "\n",
      "                  Fold 1  Fold 2  Fold 3  Mean    Std     \n",
      "RMSE (testset)    0.9000  0.8999  0.9000  0.9000  0.0001  \n",
      "Fit time          63.43   64.82   65.19   64.48   0.76    \n",
      "Test time         14.41   14.97   14.69   14.69   0.23    \n",
      "\n",
      "Número de Factores: 8\n",
      "Evaluating RMSE of algorithm SVD on 3 split(s).\n",
      "\n",
      "                  Fold 1  Fold 2  Fold 3  Mean    Std     \n",
      "RMSE (testset)    0.8979  0.8985  0.8991  0.8985  0.0005  \n",
      "Fit time          71.48   72.07   71.99   71.84   0.26    \n",
      "Test time         10.44   14.81   11.48   12.24   1.87    \n",
      "\n",
      "Número de Factores: 16\n",
      "Evaluating RMSE of algorithm SVD on 3 split(s).\n",
      "\n",
      "                  Fold 1  Fold 2  Fold 3  Mean    Std     \n",
      "RMSE (testset)    0.8957  0.8958  0.8965  0.8960  0.0004  \n",
      "Fit time          117.50  87.84   94.68   100.00  12.68   \n",
      "Test time         21.44   18.57   15.78   18.60   2.31    \n",
      "\n",
      "Número de Factores: 32\n",
      "Evaluating RMSE of algorithm SVD on 3 split(s).\n",
      "\n",
      "                  Fold 1  Fold 2  Fold 3  Mean    Std     \n",
      "RMSE (testset)    0.8925  0.8930  0.8931  0.8929  0.0003  \n",
      "Fit time          113.59  123.34  124.38  120.44  4.86    \n",
      "Test time         16.01   12.91   15.94   14.96   1.45    \n",
      "\n",
      "Número de Factores: 64\n",
      "Evaluating RMSE of algorithm SVD on 3 split(s).\n",
      "\n",
      "                  Fold 1  Fold 2  Fold 3  Mean    Std     \n",
      "RMSE (testset)    0.8883  0.8889  0.8885  0.8886  0.0002  \n",
      "Fit time          199.22  174.28  176.76  183.42  11.22   \n",
      "Test time         37.47   16.35   12.28   22.03   11.04   \n",
      "\n",
      "Número de Factores: 128\n"
     ]
    }
   ],
   "source": [
    "rmse_test_means = []\n",
    "factores = [1,2,4,8,16,32,64,128,256]\n",
    "\n",
    "for factor in factores:\n",
    "    print(f'\\nNúmero de Factores: {factor}')\n",
    "    algo = SVD(n_factors=factor)\n",
    "    cv = cross_validate(algo, data, measures=['RMSE'], cv = 3, verbose=True)\n",
    "    rmse_test_means.append(np.mean(cv['test_rmse']))"
   ]
  },
  {
   "cell_type": "code",
   "execution_count": null,
   "metadata": {},
   "outputs": [],
   "source": [
    "plt.scatter(factores, rmse_test_means)\n",
    "plt.xlabel('Numero de factores')\n",
    "plt.ylabel('Error RMSE')\n",
    "plt.show()"
   ]
  },
  {
   "cell_type": "code",
   "execution_count": null,
   "metadata": {},
   "outputs": [],
   "source": [
    "from surprise.model_selection import GridSearchCV\n",
    "\n",
    "param_grid = {'n_factors': [5,50,100],'n_epochs': [5, 10,20], 'lr_all': [0.001, 0.002, 0.005],\n",
    "              'reg_all': [0.002, 0.02, 0.2]}\n",
    "gs = GridSearchCV(SVD, param_grid, measures=['rmse'], cv=3, n_jobs = -1)\n"
   ]
  },
  {
   "cell_type": "code",
   "execution_count": null,
   "metadata": {},
   "outputs": [],
   "source": [
    "gs.fit(data)"
   ]
  },
  {
   "cell_type": "code",
   "execution_count": null,
   "metadata": {},
   "outputs": [],
   "source": [
    "print(gs.best_score['rmse'])\n",
    "print(gs.best_params['rmse'])"
   ]
  },
  {
   "cell_type": "code",
   "execution_count": 67,
   "metadata": {},
   "outputs": [],
   "source": [
    "#-----------------------------------------------------------------------------------------------#"
   ]
  },
  {
   "cell_type": "code",
   "execution_count": 68,
   "metadata": {},
   "outputs": [
    {
     "ename": "NameError",
     "evalue": "name 'data_rev' is not defined",
     "output_type": "error",
     "traceback": [
      "\u001b[1;31m---------------------------------------------------------------------------\u001b[0m",
      "\u001b[1;31mNameError\u001b[0m                                 Traceback (most recent call last)",
      "\u001b[1;32m<ipython-input-68-66faf94efddb>\u001b[0m in \u001b[0;36m<module>\u001b[1;34m\u001b[0m\n\u001b[1;32m----> 1\u001b[1;33m \u001b[0mn_usuarios\u001b[0m\u001b[1;33m=\u001b[0m\u001b[0mlen\u001b[0m\u001b[1;33m(\u001b[0m\u001b[0mdata_rev\u001b[0m\u001b[1;33m.\u001b[0m\u001b[0mreset_index\u001b[0m\u001b[1;33m(\u001b[0m\u001b[0mdrop\u001b[0m\u001b[1;33m=\u001b[0m\u001b[1;32mTrue\u001b[0m\u001b[1;33m)\u001b[0m\u001b[1;33m.\u001b[0m\u001b[0miloc\u001b[0m\u001b[1;33m[\u001b[0m\u001b[1;36m0\u001b[0m\u001b[1;33m:\u001b[0m\u001b[1;36m1000\u001b[0m\u001b[1;33m]\u001b[0m\u001b[1;33m)\u001b[0m\u001b[1;33m\u001b[0m\u001b[1;33m\u001b[0m\u001b[0m\n\u001b[0m\u001b[0;32m      2\u001b[0m \u001b[0mn_items\u001b[0m\u001b[1;33m=\u001b[0m\u001b[0mlen\u001b[0m\u001b[1;33m(\u001b[0m\u001b[0mdata_games\u001b[0m\u001b[1;33m.\u001b[0m\u001b[0mid\u001b[0m\u001b[1;33m)\u001b[0m\u001b[1;33m\u001b[0m\u001b[1;33m\u001b[0m\u001b[0m\n\u001b[0;32m      3\u001b[0m \u001b[0musuarios\u001b[0m\u001b[1;33m=\u001b[0m\u001b[0mdata_rev\u001b[0m\u001b[1;33m.\u001b[0m\u001b[0miloc\u001b[0m\u001b[1;33m[\u001b[0m\u001b[1;36m0\u001b[0m\u001b[1;33m:\u001b[0m\u001b[1;36m1000\u001b[0m\u001b[1;33m]\u001b[0m\u001b[1;33m.\u001b[0m\u001b[0musername\u001b[0m\u001b[1;33m\u001b[0m\u001b[1;33m\u001b[0m\u001b[0m\n\u001b[0;32m      4\u001b[0m \u001b[0mitems\u001b[0m\u001b[1;33m=\u001b[0m\u001b[0mdata_games\u001b[0m\u001b[1;33m.\u001b[0m\u001b[0mid\u001b[0m\u001b[1;33m\u001b[0m\u001b[1;33m\u001b[0m\u001b[0m\n",
      "\u001b[1;31mNameError\u001b[0m: name 'data_rev' is not defined"
     ]
    }
   ],
   "source": [
    "n_usuarios=len(data_rev.reset_index(drop=True).iloc[0:1000])\n",
    "n_items=len(data_games.id)\n",
    "usuarios=data_rev.iloc[0:1000].username\n",
    "items=data_games.id"
   ]
  },
  {
   "cell_type": "code",
   "execution_count": null,
   "metadata": {},
   "outputs": [],
   "source": [
    "user=data_reviews_ok.username.value_counts()[data_reviews_ok.username.value_counts()>3].index\n",
    "items=title_id.id.unique()\n",
    "n_user=len(user)\n",
    "n_items=len(items)"
   ]
  },
  {
   "cell_type": "code",
   "execution_count": null,
   "metadata": {},
   "outputs": [],
   "source": [
    "matriz_utilidad=pd.DataFrame(np.zeros((n_user,n_items)), index=user, columns=items).astype(pd.SparseDtype('float'))\n",
    "matriz_utilidad"
   ]
  },
  {
   "cell_type": "code",
   "execution_count": null,
   "metadata": {},
   "outputs": [],
   "source": [
    "for column in matriz_utilidad:\n",
    "    spdtypes=matriz_utilidad.dtypes[column]\n",
    "    \n",
    "    matriz_utilidad[column] = matriz_utilidad[column].sparse.to_dense()\n",
    "    \n",
    "    \n",
    "    mask_calif_columns=items==column\n",
    "    calificaciones_column=data_reviews_ok.username.value_counts()[data_reviews_ok.username.value_counts()>3]\n",
    "    \n",
    "    \n",
    "    matriz_utilidad[column].loc[calificaciones_column.index]=calificaciones_column\n",
    "    "
   ]
  },
  {
   "cell_type": "code",
   "execution_count": null,
   "metadata": {},
   "outputs": [],
   "source": [
    "items"
   ]
  },
  {
   "cell_type": "code",
   "execution_count": null,
   "metadata": {},
   "outputs": [],
   "source": [
    "data_reviews_ok[data_reviews_ok.username.value_counts()>3]"
   ]
  },
  {
   "cell_type": "code",
   "execution_count": null,
   "metadata": {},
   "outputs": [],
   "source": []
  }
 ],
 "metadata": {
  "kernelspec": {
   "display_name": "Python 3",
   "language": "python",
   "name": "python3"
  },
  "language_info": {
   "codemirror_mode": {
    "name": "ipython",
    "version": 3
   },
   "file_extension": ".py",
   "mimetype": "text/x-python",
   "name": "python",
   "nbconvert_exporter": "python",
   "pygments_lexer": "ipython3",
   "version": "3.8.3"
  }
 },
 "nbformat": 4,
 "nbformat_minor": 4
}
